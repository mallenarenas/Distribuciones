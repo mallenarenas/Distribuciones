{
  "nbformat": 4,
  "nbformat_minor": 0,
  "metadata": {
    "colab": {
      "provenance": [],
      "authorship_tag": "ABX9TyPxX80oU8Ak53JGiNALQY/y",
      "include_colab_link": true
    },
    "kernelspec": {
      "name": "python3",
      "display_name": "Python 3"
    },
    "language_info": {
      "name": "python"
    }
  },
  "cells": [
    {
      "cell_type": "markdown",
      "metadata": {
        "id": "view-in-github",
        "colab_type": "text"
      },
      "source": [
        "<a href=\"https://colab.research.google.com/github/mallenarenas/Distribuciones-de-Probabilidad/blob/main/clase_intervalos_de_confianza.ipynb\" target=\"_parent\"><img src=\"https://colab.research.google.com/assets/colab-badge.svg\" alt=\"Open In Colab\"/></a>"
      ]
    },
    {
      "cell_type": "code",
      "execution_count": null,
      "metadata": {
        "id": "9XZX6Nqo9vEV"
      },
      "outputs": [],
      "source": [
        "from scipy.stats import norm, t, chi2, f\n",
        "import statistics as stat\n",
        "import math"
      ]
    },
    {
      "cell_type": "markdown",
      "source": [
        " <h1>Ejemplo 1 </h1>\n",
        "\n",
        " <p> Suponga que una máquina envasadora de café debe envasar este producto en tarros de 500 gr. Para verificar esto se toma una muestra de 16 tarros, arrojando los siguientes resultados: </p>    "
      ],
      "metadata": {
        "id": "rkV7SSxUucoe"
      }
    },
    {
      "cell_type": "code",
      "source": [
        "x=[497, 512, 504, 510, 506, 508, 503, 499, 502, 496, 509, 514, 593, 505, 496, 506]"
      ],
      "metadata": {
        "id": "eILwyB70wF_0"
      },
      "execution_count": null,
      "outputs": []
    },
    {
      "cell_type": "markdown",
      "source": [
        "Si el peso de cada tarro está normalmente distribuido con $\\sigma=5$ gr, obtenga el intervalo de confianza para la media de llenado con una confianza del 90\\% y una del 95\\%.\n",
        "    "
      ],
      "metadata": {
        "id": "78r1ZjZhwJQa"
      }
    },
    {
      "cell_type": "markdown",
      "source": [
        "Al 90% de confianza: \\\\\n",
        "$\\gamma = 0.9$ \\\\\n",
        "$\\alpha = 0.1$ \\\\\n",
        "$\\frac{\\alpha}{2}=0.05$ \\\\"
      ],
      "metadata": {
        "id": "qjQGSMZGxNgC"
      }
    },
    {
      "cell_type": "code",
      "source": [
        "norm.ppf(0.95,0,1)"
      ],
      "metadata": {
        "colab": {
          "base_uri": "https://localhost:8080/"
        },
        "id": "vZkNQas4-Amj",
        "outputId": "ba455213-2afd-47b2-a743-45f55b5c5428"
      },
      "execution_count": null,
      "outputs": [
        {
          "output_type": "execute_result",
          "data": {
            "text/plain": [
              "1.6448536269514722"
            ]
          },
          "metadata": {},
          "execution_count": 3
        }
      ]
    },
    {
      "cell_type": "code",
      "source": [
        "norm.ppf(0.05,0,1)"
      ],
      "metadata": {
        "colab": {
          "base_uri": "https://localhost:8080/"
        },
        "id": "I3IsFY_m-I3K",
        "outputId": "bf0d42e9-e353-4687-fc71-46a4b7b6eb2e"
      },
      "execution_count": null,
      "outputs": [
        {
          "output_type": "execute_result",
          "data": {
            "text/plain": [
              "-1.6448536269514729"
            ]
          },
          "metadata": {},
          "execution_count": 4
        }
      ]
    },
    {
      "cell_type": "code",
      "source": [
        "stat.mean(x)"
      ],
      "metadata": {
        "colab": {
          "base_uri": "https://localhost:8080/"
        },
        "id": "Z8kmf7Zh_GgX",
        "outputId": "6c25cb3f-7ce1-483a-cd7b-114cfda59b20"
      },
      "execution_count": null,
      "outputs": [
        {
          "output_type": "execute_result",
          "data": {
            "text/plain": [
              "510"
            ]
          },
          "metadata": {},
          "execution_count": 5
        }
      ]
    },
    {
      "cell_type": "markdown",
      "source": [
        "$\\overline{X}=510$ \\\\\n",
        "$\\sigma =5$ \\\\\n",
        "$n=16$ \\\\\n",
        "$\\sqrt{n}=\\sqrt{16}=4$ \\\\\n",
        "\n",
        "$$IC(\\mu) = (\\overline{X} - z_{1 - \\alpha/2}\\frac{\\sigma}{\\sqrt{n}}, \\overline{X} + z_{1 - \\alpha/2}\\frac{\\sigma}{\\sqrt{n}}).$$\n",
        "$$= (510 - 1.645\\frac{5}{4}, 510 + 1.645\\frac{5}{4})$$"
      ],
      "metadata": {
        "id": "z6lfEEdUwc_i"
      }
    },
    {
      "cell_type": "code",
      "source": [
        "limite_inferior = 510 - norm.ppf(0.95,0,1)*5/4\n",
        "limite_superior = 510 + norm.ppf(0.95,0,1)*5/4\n",
        "print(f\"({limite_inferior},{limite_superior})\")"
      ],
      "metadata": {
        "colab": {
          "base_uri": "https://localhost:8080/"
        },
        "id": "H8StUtojypoM",
        "outputId": "6b04eb92-4800-4cce-c5ab-a2e5552aa786"
      },
      "execution_count": null,
      "outputs": [
        {
          "output_type": "stream",
          "name": "stdout",
          "text": [
            "(507.9439329663107,512.0560670336894)\n"
          ]
        }
      ]
    },
    {
      "cell_type": "markdown",
      "source": [
        "Al 95% de confianza: \\\\\n",
        "$\\gamma = 0.95$ \\\\\n",
        "$\\alpha = 0.05$ \\\\\n",
        "$\\frac{\\alpha}{2}=0.025$ \\\\"
      ],
      "metadata": {
        "id": "hofbWtelzU2o"
      }
    },
    {
      "cell_type": "code",
      "source": [
        "norm.ppf(0.975,0,1)"
      ],
      "metadata": {
        "colab": {
          "base_uri": "https://localhost:8080/"
        },
        "id": "noEEgId6z-qe",
        "outputId": "cdc75f4d-fa7b-4b05-b5c9-c8c0e31fade9"
      },
      "execution_count": null,
      "outputs": [
        {
          "output_type": "execute_result",
          "data": {
            "text/plain": [
              "1.959963984540054"
            ]
          },
          "metadata": {},
          "execution_count": 7
        }
      ]
    },
    {
      "cell_type": "markdown",
      "source": [
        "$$IC(\\mu) = (\\overline{X} - z_{1 - \\alpha/2}\\frac{\\sigma}{\\sqrt{n}}, \\overline{X} + z_{1 - \\alpha/2}\\frac{\\sigma}{\\sqrt{n}})$$\n",
        "$$= (510 - 1.96\\frac{5}{4}, 510 + 1.96\\frac{5}{4})$$"
      ],
      "metadata": {
        "id": "CZjmm5rHz2Q-"
      }
    },
    {
      "cell_type": "code",
      "source": [
        "limite_inferior = 510 - norm.ppf(0.975,0,1)*5/4\n",
        "limite_superior = 510 + norm.ppf(0.975,0,1)*5/4\n",
        "print(f\"({limite_inferior},{limite_superior})\")"
      ],
      "metadata": {
        "colab": {
          "base_uri": "https://localhost:8080/"
        },
        "id": "-9Gu4Zif0Mqb",
        "outputId": "b93bdf4a-7c1e-417c-fe38-45d53e11a838"
      },
      "execution_count": null,
      "outputs": [
        {
          "output_type": "stream",
          "name": "stdout",
          "text": [
            "(507.55004501932495,512.4499549806751)\n"
          ]
        }
      ]
    },
    {
      "cell_type": "markdown",
      "source": [
        " En el ejemplo anterior, ¿Cuál deberá ser el tamaño muestral para que con un 90\\% de confianza tengamos un error de estimación menor a 1 gramo?"
      ],
      "metadata": {
        "id": "DPJkQAJJ6Lhn"
      }
    },
    {
      "cell_type": "code",
      "source": [
        "(norm.ppf(0.95,0,1)*5)**2"
      ],
      "metadata": {
        "colab": {
          "base_uri": "https://localhost:8080/"
        },
        "id": "zZcC0XaS6VgZ",
        "outputId": "23f25d09-be50-4a94-9911-dd206953a463"
      },
      "execution_count": null,
      "outputs": [
        {
          "output_type": "execute_result",
          "data": {
            "text/plain": [
              "67.63858635238533"
            ]
          },
          "metadata": {},
          "execution_count": 9
        }
      ]
    },
    {
      "cell_type": "markdown",
      "source": [
        "  <h1>Ejemplo 2 </h1>\n",
        "\n",
        " Se afirma que una empresa de artículos de escritorio produce cuadernos de tal manera que 1 de cada 4 cuadernos son defectuosos. Para comprobar esta afirmación se toma una muestra de 250 cuadernos, de los cuales 25 resultan ser defectuosos. Determinar el intervalo del 95\\% de confianza para la verdadera proporción de defectuosos producidos por la empresa."
      ],
      "metadata": {
        "id": "rp8Lg6l463dp"
      }
    },
    {
      "cell_type": "markdown",
      "source": [
        "$$IC(p) = (\\widehat{p} - z_{1 - \\alpha/2}\\sqrt{\\frac{\\widehat{p}(1-\\widehat{p})}{n}}, \\widehat{p} + z_{1 - \\alpha/2}\\sqrt{\\frac{\\widehat{p}(1-\\widehat{p})}{n}})$$\n",
        "$$= (1/10 - 1.96\\sqrt{\\frac{\\frac{1}{10}\\frac{9}{10}}{250}}, 1/10 + 1.96\\sqrt{\\frac{\\frac{1}{10}\\frac{9}{10}}{250}})$$"
      ],
      "metadata": {
        "id": "rYQXbUjqY0Yb"
      }
    },
    {
      "cell_type": "code",
      "source": [
        "limite_inferior = 1/10 - norm.ppf(0.975,0,1)*math.sqrt((1/10*9/10)/250)\n",
        "limite_superior = 1/10 + norm.ppf(0.975,0,1)*math.sqrt((1/10*9/10)/250)\n",
        "print(f\"({limite_inferior},{limite_superior})\")"
      ],
      "metadata": {
        "id": "FYbIjBeP7Jcf",
        "colab": {
          "base_uri": "https://localhost:8080/"
        },
        "outputId": "74b58ea4-e05b-4a02-bcce-ffaeeee1068f"
      },
      "execution_count": null,
      "outputs": [
        {
          "output_type": "stream",
          "name": "stdout",
          "text": [
            "(0.06281229806172631,0.1371877019382737)\n"
          ]
        }
      ]
    },
    {
      "cell_type": "markdown",
      "source": [
        "  <h1>Ejemplo 3 </h1>\n",
        "\n",
        "  Considere los puntajes de una prueba de estadística como una variable\n",
        "aleatoria. Se toma una muestra aleatoria de 9 alumnos con los siguientes\n",
        "resultados: 80, 8, 20, 65, 50, 30, 31, 85, 31.\n",
        "Considerando que estos puntajes tienen distribución de probabilidad\n",
        "normal, determinar el intervalo de conﬁanza de 90% para la media de la\n",
        "población"
      ],
      "metadata": {
        "id": "SVtB5xCk9iJc"
      }
    },
    {
      "cell_type": "code",
      "source": [
        "t.ppf(0.95,8)"
      ],
      "metadata": {
        "id": "fvVCU5PGxUOi"
      },
      "execution_count": null,
      "outputs": []
    },
    {
      "cell_type": "code",
      "source": [
        "x=[80, 8, 20, 65, 50, 30, 31, 85, 31]\n",
        "media=stat.mean(x)\n",
        "print(\"media:\", media)\n",
        "S = stat.stdev(x)\n",
        "print(\"S:\",S)"
      ],
      "metadata": {
        "colab": {
          "base_uri": "https://localhost:8080/"
        },
        "id": "h5c-b9CibLYG",
        "outputId": "d9d52aa7-3099-4142-8edd-d3beccd28460"
      },
      "execution_count": null,
      "outputs": [
        {
          "output_type": "stream",
          "name": "stdout",
          "text": [
            "media: 44.44444444444444\n",
            "S: 27.060631511067474\n"
          ]
        }
      ]
    },
    {
      "cell_type": "markdown",
      "source": [
        "$$IC(\\mu) = (\\overline{X} - t_{(1 - \\alpha/2,n-1)}\\frac{S}{\\sqrt{n}}, \\overline{X} + t_{(1 - \\alpha/2,n-1)}\\frac{S}{\\sqrt{n}})$$\n",
        "$$= (44.44 - 1.86\\frac{27.06}{3}, 44.44 + 1.86\\frac{27.06}{3})$$"
      ],
      "metadata": {
        "id": "Azg_8FFgbByC"
      }
    },
    {
      "cell_type": "code",
      "source": [
        "\n",
        "limite_inferior = media - t.ppf(0.95,8)*S/3\n",
        "limite_superior = media + t.ppf(0.95,8)*S/3\n",
        "print(f\"({limite_inferior},{limite_superior})\")"
      ],
      "metadata": {
        "id": "ko2vhWUR9vrI",
        "colab": {
          "base_uri": "https://localhost:8080/"
        },
        "outputId": "397a59a4-f5d2-4ac3-fb69-2bf9cdd1bdec"
      },
      "execution_count": null,
      "outputs": [
        {
          "output_type": "stream",
          "name": "stdout",
          "text": [
            "(27.67092970426634,61.21795918462254)\n"
          ]
        }
      ]
    },
    {
      "cell_type": "code",
      "source": [
        "cuadrados_de_distancia = []\n",
        "for i in range(0,len(x)):\n",
        "  cuadrados_de_distancia.append((x[i] - media)**2)\n",
        "print(math.sqrt((sum(cuadrados_de_distancia)/8)))"
      ],
      "metadata": {
        "id": "UHORjwVmy62f",
        "colab": {
          "base_uri": "https://localhost:8080/"
        },
        "outputId": "fea5b4e6-bce0-4f6d-a4e0-25dadc67da5b"
      },
      "execution_count": null,
      "outputs": [
        {
          "output_type": "stream",
          "name": "stdout",
          "text": [
            "27.060631511067474\n"
          ]
        }
      ]
    },
    {
      "cell_type": "markdown",
      "source": [
        " <h1>Ejemplo 4</h1>\n",
        " <h2>varianzas conocidas</h2>\n",
        "Suponga que se tienen dos materiales de construcción hechos con un\n",
        "componente $A$ y otro con un componente $B$. Se sabe que las poblaciones\n",
        "de ambos componentes poseen distribución normal con varianzas $\\sigma_A^2=16$\n",
        "y $\\sigma_B^2=4$ para los componentes $A$ y $B$ respectivamente. El objetivo de este\n",
        "estudio consiste en medir las resistencias de ambos materiales para elegir\n",
        "cuál es mejor. Para esto se midieron las resistencias (en kg/cm2) de los\n",
        "componentes obteniéndose los siguientes resultados:"
      ],
      "metadata": {
        "id": "WObvYylBdOp-"
      }
    },
    {
      "cell_type": "code",
      "source": [
        "componente_A = [31, 34, 32, 35, 37, 32, 42]\n",
        "componente_B = [40, 38, 35, 42, 41, 39, 40, 38, 37]"
      ],
      "metadata": {
        "id": "8wsVQoO6d3w-"
      },
      "execution_count": null,
      "outputs": []
    },
    {
      "cell_type": "code",
      "source": [
        "X_barra_A = stat.mean(componente_A)\n",
        "print(\"media de A:\", X_barra_A)\n",
        "X_barra_B = stat.mean(componente_B)\n",
        "print(\"media de B:\",X_barra_B)"
      ],
      "metadata": {
        "colab": {
          "base_uri": "https://localhost:8080/"
        },
        "id": "JmHUYUHgeyq3",
        "outputId": "99d05ba0-b1e7-49d7-ebcf-2f3938213e11"
      },
      "execution_count": null,
      "outputs": [
        {
          "output_type": "stream",
          "name": "stdout",
          "text": [
            "media de A: 34.714285714285715\n",
            "media de B: 38.888888888888886\n"
          ]
        }
      ]
    },
    {
      "cell_type": "markdown",
      "source": [
        "Como no se da un nivel de confianza lo fijamos en $\\gamma = 0.95$\n",
        "\n",
        "luego $1-\\alpha/2 = 0.975$"
      ],
      "metadata": {
        "id": "3I3hWAabgE44"
      }
    },
    {
      "cell_type": "code",
      "source": [
        "norm.ppf(0.975,0,1)"
      ],
      "metadata": {
        "colab": {
          "base_uri": "https://localhost:8080/"
        },
        "id": "wZYdmamBgaF7",
        "outputId": "f96995d1-7455-4667-8eec-c2f7c42699ec"
      },
      "execution_count": null,
      "outputs": [
        {
          "output_type": "execute_result",
          "data": {
            "text/plain": [
              "1.959963984540054"
            ]
          },
          "metadata": {},
          "execution_count": 16
        }
      ]
    },
    {
      "cell_type": "markdown",
      "source": [
        "$$IC(\\mu_1-\\mu_2)=(\\overline{X_1}-\\overline{X_2})\\pm z_{1-\\alpha/2}\\sqrt{\\frac{\\sigma_1^2}{n_1}+\\frac{\\sigma_2^2}{n_2}}$$\n",
        "$$=(38.88-34.71)\\pm 1.96\\sqrt{\\frac{16}{7}+\\frac{4}{9}}.$$"
      ],
      "metadata": {
        "id": "OSh4A8CKeWoI"
      }
    },
    {
      "cell_type": "code",
      "source": [
        "limite_inferior = (X_barra_B - X_barra_A) - norm.ppf(0.975,0,1)*math.sqrt((16/7)+(4/9))\n",
        "limite_superior = (X_barra_B - X_barra_A) + norm.ppf(0.975,0,1)*math.sqrt((16/7)+(4/9))\n",
        "print(f\"({limite_inferior},{limite_superior})\")"
      ],
      "metadata": {
        "colab": {
          "base_uri": "https://localhost:8080/"
        },
        "id": "_uL8gmmDgulv",
        "outputId": "d1dbe121-f92c-43c6-f671-89e40b79c1d2"
      },
      "execution_count": null,
      "outputs": [
        {
          "output_type": "stream",
          "name": "stdout",
          "text": [
            "(0.9361170566981816,7.413089292508159)\n"
          ]
        }
      ]
    },
    {
      "cell_type": "markdown",
      "source": [
        " <h1>Ejemplo 5 </h1>\n",
        "\n",
        "  <h2>varianzas desconocidas iguales</h2>\n",
        "\n",
        " Para comparar el efecto del estrés en la forma de ruido sobre la capacidad de realizar un trabajo sencillo,\n",
        "70 personas fueron divididas en dos grupos. El primer grupo de 30 personas actuó como control, en tanto que\n",
        "el segundo grupo de 40 fueron el grupo experimental. Aun cuando cada persona realizó\n",
        "el trabajo en el mismo cuarto de control, cada una de las personas del grupo experimental tuvo que\n",
        "realizar el trabajo cuando se reproducía música de rock a alto volumen. El tiempo para terminar el trabajo\n",
        "se registró para cada individuo y se obtuvo el siguiente resumen:"
      ],
      "metadata": {
        "id": "uEynhXupCTez"
      }
    },
    {
      "cell_type": "code",
      "source": [
        "n_control = 30\n",
        "n_experimental = 40\n",
        "x_barra_control = 15\n",
        "x_barra_experimental = 23\n",
        "S_control = 4\n",
        "S_experimental = 10"
      ],
      "metadata": {
        "id": "LDkX4fUOCaWn"
      },
      "execution_count": null,
      "outputs": []
    },
    {
      "cell_type": "markdown",
      "source": [
        "a) Encuentre un intervalo de confianza de 99\\% para la diferencia en tiempos medios de terminación\n",
        "para estos dos grupos.\n",
        "\n",
        "b) Con base en el intervalo de confianza del inciso a),\n",
        "   ¿hay suficiente evidencia para indicar una diferencia en el tiempo promedio de terminación para los dos grupos? Explique.\n"
      ],
      "metadata": {
        "id": "4B2-yvwzC7wg"
      }
    },
    {
      "cell_type": "markdown",
      "source": [
        "$$S_p^2=\\frac{(n_1-1)S_1^2+(n_2-1)S_2^2}{n_1+n_2-2}.$$"
      ],
      "metadata": {
        "id": "nUMZAvIbDj7C"
      }
    },
    {
      "cell_type": "code",
      "source": [
        "S_p = math.sqrt(((n_control -1)*S_control**2+(n_experimental -1)*S_experimental**2)/(n_control + n_experimental -2))\n",
        "S_p"
      ],
      "metadata": {
        "colab": {
          "base_uri": "https://localhost:8080/"
        },
        "id": "Pkkua8WTDGLi",
        "outputId": "f7307d72-c119-4a67-8f69-6ab80598f379"
      },
      "execution_count": null,
      "outputs": [
        {
          "output_type": "execute_result",
          "data": {
            "text/plain": [
              "8.011021819233505"
            ]
          },
          "metadata": {},
          "execution_count": 19
        }
      ]
    },
    {
      "cell_type": "markdown",
      "source": [
        "$$IC(\\mu_1-\\mu_2)=(\\overline{X_1}-\\overline{X_2})\\pm t_{1-\\alpha/2,n_1+n_2-2}S_p\\sqrt{\\frac{1}{n_1}+\\frac{1}{n_2}},$$\n"
      ],
      "metadata": {
        "id": "k2IhWDXYEb6K"
      }
    },
    {
      "cell_type": "code",
      "source": [
        "limite_inferior = (x_barra_experimental-x_barra_control) - t.ppf(0.995,n_control+n_experimental-2) * S_p * math.sqrt(1/n_experimental+1/n_control)\n",
        "limite_superior = (x_barra_experimental-x_barra_control) + t.ppf(0.995,n_control+n_experimental-2) * S_p * math.sqrt(1/n_experimental+1/n_control)\n",
        "print(\"(\",limite_inferior,limite_superior,\")\")"
      ],
      "metadata": {
        "colab": {
          "base_uri": "https://localhost:8080/"
        },
        "id": "7g0oeJA0Easz",
        "outputId": "7baaedbc-4edd-449e-c330-5f8d82f5cc52"
      },
      "execution_count": null,
      "outputs": [
        {
          "output_type": "stream",
          "name": "stdout",
          "text": [
            "( 2.872501901671577 13.127498098328424 )\n"
          ]
        }
      ]
    },
    {
      "cell_type": "markdown",
      "source": [
        " <h1>Ejemplo 6 </h1>\n",
        "\n",
        "  <h2>varianzas desconocidas distintas</h2>"
      ],
      "metadata": {
        "id": "ZMBGN6-Zd7a1"
      }
    },
    {
      "cell_type": "markdown",
      "source": [
        " Para comparar el efecto del estrés en la forma de ruido sobre la capacidad de realizar un trabajo sencillo,\n",
        "70 personas fueron divididas en dos grupos. El primer grupo de 30 personas actuó como control, en tanto que\n",
        "el segundo grupo de 40 fueron el grupo experimental. Aun cuando cada persona realizó\n",
        "el trabajo en el mismo cuarto de control, cada una de las personas del grupo experimental tuvo que\n",
        "realizar el trabajo cuando se reproducía música de rock a alto volumen. El tiempo para terminar el trabajo\n",
        "se registró para cada individuo y se obtuvo el siguiente resumen:"
      ],
      "metadata": {
        "id": "QcwCbhAdNqwp"
      }
    },
    {
      "cell_type": "code",
      "source": [
        "n_control = 30\n",
        "n_experimental = 40\n",
        "x_barra_control = 15\n",
        "x_barra_experimental = 23\n",
        "S_control = 4\n",
        "S_experimental = 10"
      ],
      "metadata": {
        "id": "jSTGaQkDOBUL"
      },
      "execution_count": null,
      "outputs": []
    },
    {
      "cell_type": "markdown",
      "source": [
        "a) Encuentre un intervalo de confianza de 99\\% para la diferencia en tiempos medios de terminación\n",
        "para estos dos grupos.\n",
        "\n",
        "b) Con base en el intervalo de confianza del inciso a),\n",
        "   ¿hay suficiente evidencia para indicar una diferencia en el tiempo promedio de terminación para los dos grupos? Explique."
      ],
      "metadata": {
        "id": "sFqwWYPVOJrC"
      }
    },
    {
      "cell_type": "code",
      "source": [
        "nu = (S_control**2/n_control + S_experimental**2/n_experimental)**2/((S_control**2/n_control)**2*1/(n_control-1)+(S_experimental**2/n_experimental)**2*1/(n_experimental-1))-2\n",
        "nu"
      ],
      "metadata": {
        "colab": {
          "base_uri": "https://localhost:8080/"
        },
        "id": "vr4zK2QFObft",
        "outputId": "c3318cd2-f79b-4263-c5ed-44ca0405a32f"
      },
      "execution_count": null,
      "outputs": [
        {
          "output_type": "execute_result",
          "data": {
            "text/plain": [
              "52.1035474758678"
            ]
          },
          "metadata": {},
          "execution_count": 22
        }
      ]
    },
    {
      "cell_type": "code",
      "source": [
        "limite_inferior = (x_barra_control-x_barra_experimental)-t.ppf(0.995,nu)*math.sqrt(S_control**2/n_control+S_experimental**2/n_experimental)\n",
        "limite_superior = (x_barra_control-x_barra_experimental)+t.ppf(0.995,nu)*math.sqrt(S_control**2/n_control+S_experimental**2/n_experimental)\n",
        "print(limite_inferior, limite_superior)"
      ],
      "metadata": {
        "colab": {
          "base_uri": "https://localhost:8080/"
        },
        "id": "OUhWwoTVThD8",
        "outputId": "431b92a8-ca9c-49ff-def5-a9fe157bc6e6"
      },
      "execution_count": null,
      "outputs": [
        {
          "output_type": "stream",
          "name": "stdout",
          "text": [
            "-12.656348664909977 -3.3436513350900237\n"
          ]
        }
      ]
    },
    {
      "cell_type": "markdown",
      "source": [
        " <h1>Ejemplo 7 </h1>\n",
        "\n",
        "  <h2>Muestras Pareadas</h2>"
      ],
      "metadata": {
        "id": "7WnjRXuveD9d"
      }
    },
    {
      "cell_type": "markdown",
      "source": [
        "Suponga que se han implementado 2 m ́etodos para realizar un trabajo y se quiere saber si alguno de estos dos m ́etodos es m ́as eficiente en cuanto a que emplea menos tiempo. Para esto se tomaron 7 trabajadores y se les tomo ́ el tiempo (en minutos) que demoraban en realizar el trabajo utilizando, cada trabajador, ambos m ́etodos.\n",
        "La siguiente tabla muestra los resultados obtenidos:"
      ],
      "metadata": {
        "id": "XWmZZeM9RZAt"
      }
    },
    {
      "cell_type": "code",
      "source": [
        "x_A = [16, 14, 21, 23, 18, 13, 25]\n",
        "x_B = [14, 15, 19, 24, 20, 15, 28]\n",
        "\n",
        "x_A_barra = stat.mean(x_A)\n",
        "x_B_barra = stat.mean(x_B)\n",
        "d_barra = x_A_barra - x_B_barra\n",
        "\n",
        "print(x_A_barra, x_B_barra, d_barra)"
      ],
      "metadata": {
        "colab": {
          "base_uri": "https://localhost:8080/"
        },
        "id": "Wdp-U2RbRgdf",
        "outputId": "97184213-8934-4e4a-cd38-6dd1ede31d3e"
      },
      "execution_count": null,
      "outputs": [
        {
          "output_type": "stream",
          "name": "stdout",
          "text": [
            "18.571428571428573 19.285714285714285 -0.7142857142857117\n"
          ]
        }
      ]
    },
    {
      "cell_type": "code",
      "source": [
        "d = []\n",
        "for i in range(len(x_A)):\n",
        "  d.append(x_A[i]-x_B[i])\n",
        "\n",
        "S_d = stat.stdev(d)\n",
        "S_d\n"
      ],
      "metadata": {
        "colab": {
          "base_uri": "https://localhost:8080/"
        },
        "id": "v-L6hNjGA6vO",
        "outputId": "de4a66c4-b92e-42c4-9f94-42551eaaa54f"
      },
      "execution_count": null,
      "outputs": [
        {
          "output_type": "execute_result",
          "data": {
            "text/plain": [
              "1.9760470401187074"
            ]
          },
          "metadata": {},
          "execution_count": 33
        }
      ]
    },
    {
      "cell_type": "code",
      "source": [
        "limite_inferior = d_barra - t.ppf(0.975, 6)*S_d/math.sqrt(7)\n",
        "limite_superior = d_barra + t.ppf(0.975, 6)*S_d/math.sqrt(7)\n",
        "print(\"(\",limite_inferior,\",\", limite_superior, \")\")"
      ],
      "metadata": {
        "colab": {
          "base_uri": "https://localhost:8080/"
        },
        "id": "EE7wTfBGB9vr",
        "outputId": "3b4173c2-66cf-4a80-a698-d8a763785d2b"
      },
      "execution_count": null,
      "outputs": [
        {
          "output_type": "stream",
          "name": "stdout",
          "text": [
            "( -2.5418244160583336 , 1.1132529874869104 )\n"
          ]
        }
      ]
    },
    {
      "cell_type": "markdown",
      "source": [
        "Realice el análisis bajo un 95% de confianza."
      ],
      "metadata": {
        "id": "VZn01XO-SgnT"
      }
    },
    {
      "cell_type": "markdown",
      "source": [
        " <h1>Ejemplo 8 </h1>\n",
        "\n",
        "  <h2>diferencia de proporciones</h2>"
      ],
      "metadata": {
        "id": "_g1JgLoDeaCX"
      }
    },
    {
      "cell_type": "code",
      "source": [
        "p_1 = 25/250\n",
        "p_2 = 14/180\n",
        "\n",
        "n_1 = 250\n",
        "n_2 = 180\n"
      ],
      "metadata": {
        "id": "quLxrb-SDvqP"
      },
      "execution_count": null,
      "outputs": []
    },
    {
      "cell_type": "code",
      "source": [
        "limite_inferior = (p_1 - p_2) - norm.ppf(0.995,0,1)*math.sqrt((p_1*(1-p_1)/n_1)+(p_2*(1-p_2)/n_2))\n",
        "limite_superior = (p_1 - p_2) + norm.ppf(0.995,0,1)*math.sqrt((p_1*(1-p_1)/n_1)+(p_2*(1-p_2)/n_2))\n",
        "print(\"(\",limite_inferior,\",\", limite_superior, \")\")"
      ],
      "metadata": {
        "colab": {
          "base_uri": "https://localhost:8080/"
        },
        "id": "JEJ2ENZUEPz_",
        "outputId": "ae9e1d67-b9c0-453c-c9ea-f24d372ed9cf"
      },
      "execution_count": null,
      "outputs": [
        {
          "output_type": "stream",
          "name": "stdout",
          "text": [
            "( -0.04871796323699808 , 0.09316240768144253 )\n"
          ]
        }
      ]
    },
    {
      "cell_type": "markdown",
      "source": [
        " <h1>Ejemplo 9 </h1>\n",
        "\n",
        "  <h2>intervalo para la varianza</h2>"
      ],
      "metadata": {
        "id": "4p97bwbtZ0-J"
      }
    },
    {
      "cell_type": "code",
      "source": [
        "x=[497, 512, 504, 510, 506, 508, 503, 499, 502, 496, 509, 514, 593, 505, 496, 506]"
      ],
      "metadata": {
        "id": "WULmwtEZgXT_"
      },
      "execution_count": null,
      "outputs": []
    },
    {
      "cell_type": "code",
      "source": [
        "n = len(x)\n",
        "n"
      ],
      "metadata": {
        "colab": {
          "base_uri": "https://localhost:8080/"
        },
        "id": "m3RWAc-aG3Jc",
        "outputId": "c5685a85-7ed8-4b70-f835-2069bf15eccf"
      },
      "execution_count": null,
      "outputs": [
        {
          "output_type": "execute_result",
          "data": {
            "text/plain": [
              "16"
            ]
          },
          "metadata": {},
          "execution_count": 3
        }
      ]
    },
    {
      "cell_type": "code",
      "source": [
        "S = stat.stdev(x)\n",
        "print(S,S**2)"
      ],
      "metadata": {
        "colab": {
          "base_uri": "https://localhost:8080/"
        },
        "id": "xvuKIssJHNjv",
        "outputId": "cfa70702-5edd-4fd8-e188-bacfc6c1a697"
      },
      "execution_count": null,
      "outputs": [
        {
          "output_type": "stream",
          "name": "stdout",
          "text": [
            "22.806431841332245 520.1333333333333\n"
          ]
        }
      ]
    },
    {
      "cell_type": "code",
      "source": [
        "limite_inferior = ((n-1)*S**2)/(chi2.ppf(0.975,n-1))\n",
        "limite_superior = ((n-1)*S**2)/(chi2.ppf(0.025,n-1))\n",
        "print(\"(\",limite_inferior,\",\", limite_superior, \")\")"
      ],
      "metadata": {
        "colab": {
          "base_uri": "https://localhost:8080/"
        },
        "id": "3p89l0rzHvK-",
        "outputId": "6501487e-6dea-4e56-a68c-4c7d8f0edbd4"
      },
      "execution_count": null,
      "outputs": [
        {
          "output_type": "stream",
          "name": "stdout",
          "text": [
            "( 283.8288887516571 , 1245.9004026030238 )\n"
          ]
        }
      ]
    },
    {
      "cell_type": "code",
      "source": [
        "print(\"(\", math.sqrt(limite_inferior),\",\", math.sqrt(limite_superior), \")\")"
      ],
      "metadata": {
        "colab": {
          "base_uri": "https://localhost:8080/"
        },
        "id": "MsT0iATEuTaG",
        "outputId": "7251731a-6623-4979-c399-bac73d415bc8"
      },
      "execution_count": null,
      "outputs": [
        {
          "output_type": "stream",
          "name": "stdout",
          "text": [
            "( 16.847221989148746 , 35.29731438230144 )\n"
          ]
        }
      ]
    },
    {
      "cell_type": "code",
      "source": [],
      "metadata": {
        "id": "mcOK39VaJQ4m"
      },
      "execution_count": null,
      "outputs": []
    },
    {
      "cell_type": "markdown",
      "source": [
        " <h1>Ejemplo 10 </h1>\n",
        "\n",
        "  <h2>intervalo para razón de varianzas</h2>"
      ],
      "metadata": {
        "id": "DivJn36taDys"
      }
    },
    {
      "cell_type": "code",
      "source": [
        "s_A = 25\n",
        "s_B = 36\n",
        "n_A = 30\n",
        "n_B = 40"
      ],
      "metadata": {
        "id": "ZydcZo_PIf37"
      },
      "execution_count": null,
      "outputs": []
    },
    {
      "cell_type": "code",
      "source": [
        "limite_inferior = s_A**2/s_B**2*f.ppf(0.025,n_B-1,n_A-1)\n",
        "limite_superior = s_A**2/s_B**2*f.ppf(0.975,n_B-1,n_A-1)\n",
        "print(\"(\",limite_inferior,\",\", limite_superior, \")\")"
      ],
      "metadata": {
        "colab": {
          "base_uri": "https://localhost:8080/"
        },
        "id": "IGgEPcIZJN9A",
        "outputId": "8baa52d7-f1f0-443e-e27d-caab7b2b506d"
      },
      "execution_count": null,
      "outputs": [
        {
          "output_type": "stream",
          "name": "stdout",
          "text": [
            "( 0.24581310011127666 , 0.9802594159848366 )\n"
          ]
        }
      ]
    },
    {
      "cell_type": "code",
      "source": [
        "s_C = 4\n",
        "s_E = 10\n",
        "n_C = 30\n",
        "n_E = 40"
      ],
      "metadata": {
        "id": "M4IMCWSHLiSS"
      },
      "execution_count": null,
      "outputs": []
    },
    {
      "cell_type": "code",
      "source": [
        "limite_inferior = s_C**2/s_E**2*f.ppf(0.005,n_E-1,n_C-1)\n",
        "limite_superior = s_C**2/s_E**2*f.ppf(0.995,n_E-1,n_C-1)\n",
        "print(\"(\",limite_inferior,\",\", limite_superior, \")\")"
      ],
      "metadata": {
        "colab": {
          "base_uri": "https://localhost:8080/"
        },
        "id": "YODpBkpILtHh",
        "outputId": "0eef6e3a-e516-49be-8914-9300b347c13a"
      },
      "execution_count": null,
      "outputs": [
        {
          "output_type": "stream",
          "name": "stdout",
          "text": [
            "( 0.06577428602094264 , 0.41034464275761345 )\n"
          ]
        }
      ]
    },
    {
      "cell_type": "code",
      "source": [
        "n = (norm.ppf(0.975,0,1)*(15000/5000))**2\n",
        "n"
      ],
      "metadata": {
        "colab": {
          "base_uri": "https://localhost:8080/"
        },
        "id": "2xAHd2Lgv25E",
        "outputId": "66381d17-5520-4562-f547-3a8344bee31b"
      },
      "execution_count": null,
      "outputs": [
        {
          "output_type": "execute_result",
          "data": {
            "text/plain": [
              "34.573129386247125"
            ]
          },
          "metadata": {},
          "execution_count": 8
        }
      ]
    },
    {
      "cell_type": "markdown",
      "source": [],
      "metadata": {
        "id": "PGJnWgileugY"
      }
    },
    {
      "cell_type": "code",
      "source": [
        "x_barra = (197.75+194.65)/2\n",
        "print(197.75 - x_barra, 194.65 - x_barra)\n",
        "print(x_barra)\n",
        "\n",
        "print(1.55*3/1.8)"
      ],
      "metadata": {
        "colab": {
          "base_uri": "https://localhost:8080/"
        },
        "id": "NzmxybgTCcqH",
        "outputId": "8052ca0d-4c07-48e8-921f-c09d7e27f00a"
      },
      "execution_count": null,
      "outputs": [
        {
          "output_type": "stream",
          "name": "stdout",
          "text": [
            "1.5500000000000114 -1.549999999999983\n",
            "196.2\n",
            "2.5833333333333335\n"
          ]
        }
      ]
    },
    {
      "cell_type": "code",
      "source": [
        "norm.ppf(0.995,0,1)"
      ],
      "metadata": {
        "colab": {
          "base_uri": "https://localhost:8080/"
        },
        "id": "PDDKem8gDUWQ",
        "outputId": "5ce31988-9ff5-4ebe-fa43-40dde0a4748c"
      },
      "execution_count": null,
      "outputs": [
        {
          "output_type": "execute_result",
          "data": {
            "text/plain": [
              "2.5758293035489004"
            ]
          },
          "metadata": {},
          "execution_count": 8
        }
      ]
    },
    {
      "cell_type": "markdown",
      "source": [
        "PROBLEMA 4 Guía 2"
      ],
      "metadata": {
        "id": "IdHsORf-Was4"
      }
    },
    {
      "cell_type": "code",
      "source": [
        "datos = [85,78,92,88,76,90,87,89,82,94,81,79,91,86, 83,77,84,88,75,93,80,85,89,87,82,91,88,96]\n",
        "media = stat.mean(datos)\n",
        "S = stat.stdev(datos)"
      ],
      "metadata": {
        "id": "wTdyeo40WgCT"
      },
      "execution_count": null,
      "outputs": []
    },
    {
      "cell_type": "code",
      "source": [
        "limite_inferior = media - t.ppf(0.95,27)*S/math.sqrt(28)\n",
        "limite_superior = media + t.ppf(0.95,27)*S/math.sqrt(28)\n",
        "print(f\"({limite_inferior},{limite_superior})\")"
      ],
      "metadata": {
        "colab": {
          "base_uri": "https://localhost:8080/"
        },
        "id": "NeHLDFuRXi3L",
        "outputId": "33115f1a-ff09-4597-fa46-bef18caeb166"
      },
      "execution_count": null,
      "outputs": [
        {
          "output_type": "stream",
          "name": "stdout",
          "text": [
            "(83.74963363376635,87.39322350909079)\n"
          ]
        }
      ]
    },
    {
      "cell_type": "markdown",
      "source": [
        "problema 15 guía 2"
      ],
      "metadata": {
        "id": "KuF-drodcMuo"
      }
    },
    {
      "cell_type": "code",
      "source": [
        "t.ppf(0.95,5)*1.128/math.sqrt(6)\n",
        "media = 18.72\n",
        "S = 1.128"
      ],
      "metadata": {
        "id": "w31d3A6fcQuf"
      },
      "execution_count": null,
      "outputs": []
    },
    {
      "cell_type": "code",
      "source": [
        "limite_inferior = media - t.ppf(0.95,5)*S/math.sqrt(6)\n",
        "limite_superior = media + t.ppf(0.95,5)*S/math.sqrt(6)\n",
        "print(f\"({20* limite_inferior},{20*limite_superior})\")"
      ],
      "metadata": {
        "colab": {
          "base_uri": "https://localhost:8080/"
        },
        "id": "Dv_ofQG2eihT",
        "outputId": "1d28e319-3947-423a-8f88-e53235d553bc"
      },
      "execution_count": null,
      "outputs": [
        {
          "output_type": "stream",
          "name": "stdout",
          "text": [
            "(355.8412403965554,392.95875960344455)\n"
          ]
        }
      ]
    },
    {
      "cell_type": "code",
      "source": [
        "0.68*math.sqrt(6)/S"
      ],
      "metadata": {
        "colab": {
          "base_uri": "https://localhost:8080/"
        },
        "id": "FN1sAJdKjOpF",
        "outputId": "169c24dd-320e-4798-d884-14f6f4e5677e"
      },
      "execution_count": null,
      "outputs": [
        {
          "output_type": "execute_result",
          "data": {
            "text/plain": [
              "1.4766427527416321"
            ]
          },
          "metadata": {},
          "execution_count": 12
        }
      ]
    },
    {
      "cell_type": "code",
      "source": [
        "t.pdf(0.68*math.sqrt(6)/S,5)"
      ],
      "metadata": {
        "colab": {
          "base_uri": "https://localhost:8080/"
        },
        "id": "pEYSnZz7lW0b",
        "outputId": "6fd11886-fe0f-411d-ded1-dde5dd3e3a52"
      },
      "execution_count": null,
      "outputs": [
        {
          "output_type": "execute_result",
          "data": {
            "text/plain": [
              "0.12816946197337525"
            ]
          },
          "metadata": {},
          "execution_count": 14
        }
      ]
    },
    {
      "cell_type": "code",
      "source": [
        "n = 6"
      ],
      "metadata": {
        "id": "OdwYFS7QmlDe"
      },
      "execution_count": null,
      "outputs": []
    },
    {
      "cell_type": "code",
      "source": [
        "limite_inferior = ((n-1)*S**2)/(chi2.ppf(0.95,n-1))\n",
        "limite_superior = ((n-1)*S**2)/(chi2.ppf(0.05,n-1))\n",
        "print(\"(\",math.sqrt(limite_inferior),\",\", math.sqrt(limite_superior), \")\")"
      ],
      "metadata": {
        "colab": {
          "base_uri": "https://localhost:8080/"
        },
        "id": "Lv5sJJRUmhXs",
        "outputId": "c2ecc622-23b0-42b0-e1d5-b1ce64f24d4a"
      },
      "execution_count": null,
      "outputs": [
        {
          "output_type": "stream",
          "name": "stdout",
          "text": [
            "( 0.7580721274314148 , 2.3566824182208284 )\n"
          ]
        }
      ]
    },
    {
      "cell_type": "markdown",
      "source": [
        "Problema 8 guía 2"
      ],
      "metadata": {
        "id": "RTyj7P2EpCvQ"
      }
    },
    {
      "cell_type": "code",
      "source": [
        "norm.ppf(0.95,0,1)**2*1/4/0.1**2"
      ],
      "metadata": {
        "colab": {
          "base_uri": "https://localhost:8080/"
        },
        "id": "mVABrSmLpHYG",
        "outputId": "526699bc-9135-4b77-82e8-78031ec3c595"
      },
      "execution_count": null,
      "outputs": [
        {
          "output_type": "execute_result",
          "data": {
            "text/plain": [
              "67.6385863523853"
            ]
          },
          "metadata": {},
          "execution_count": 9
        }
      ]
    },
    {
      "cell_type": "markdown",
      "source": [
        "Problema 14 guía 2"
      ],
      "metadata": {
        "id": "SsVE8F6WI-3A"
      }
    },
    {
      "cell_type": "code",
      "source": [
        "x = [25,28,30,32,26,31,27,29,24,30,28,33,25,26,31]\n",
        "y = [20,24,28,22,19,25,23,27,21,26,25,29,23,20,28]"
      ],
      "metadata": {
        "id": "Ao22VbnNJCPo"
      },
      "execution_count": null,
      "outputs": []
    },
    {
      "cell_type": "code",
      "source": [
        "d=[]\n",
        "for i in range(0,len(x)):\n",
        "  d.append(x[i]-y[i])\n",
        "\n"
      ],
      "metadata": {
        "colab": {
          "base_uri": "https://localhost:8080/"
        },
        "id": "TKiweAXRJh67",
        "outputId": "886b83f9-74a0-4472-8085-d26be957a10c"
      },
      "execution_count": null,
      "outputs": [
        {
          "output_type": "execute_result",
          "data": {
            "text/plain": [
              "[5, 4, 2, 10, 7, 6, 4, 2, 3, 4, 3, 4, 2, 6, 3]"
            ]
          },
          "metadata": {},
          "execution_count": 11
        }
      ]
    },
    {
      "cell_type": "code",
      "source": [
        "d_barra = stat.mean(d)\n",
        "S_d = stat.stdev(d)"
      ],
      "metadata": {
        "id": "4MP1s6XsKj-2"
      },
      "execution_count": null,
      "outputs": []
    },
    {
      "cell_type": "code",
      "source": [
        "limite_inferior = d_barra - t.ppf(0.95, 14)*S_d/math.sqrt(15)\n",
        "limite_superior = d_barra + t.ppf(0.95, 14)*S_d/math.sqrt(15)\n",
        "print(\"(\",limite_inferior,\",\", limite_superior, \")\")"
      ],
      "metadata": {
        "colab": {
          "base_uri": "https://localhost:8080/"
        },
        "id": "kzFgUod-K_tG",
        "outputId": "d226f9b5-2145-4fac-cd88-a3e47058a222"
      },
      "execution_count": null,
      "outputs": [
        {
          "output_type": "stream",
          "name": "stdout",
          "text": [
            "( 3.335997910568926 , 5.33066875609774 )\n"
          ]
        }
      ]
    },
    {
      "cell_type": "markdown",
      "source": [
        "Problema 16 guía 2"
      ],
      "metadata": {
        "id": "LTDEesXaQRlU"
      }
    },
    {
      "cell_type": "code",
      "source": [
        "s_A = 7\n",
        "s_B = 9\n",
        "n_A = 18\n",
        "n_B = 22\n",
        "x_barra_A = 12\n",
        "x_barra_B = 15"
      ],
      "metadata": {
        "id": "T90ChcFoQYpz"
      },
      "execution_count": null,
      "outputs": []
    },
    {
      "cell_type": "code",
      "source": [
        "limite_inferior = s_A**2/s_B**2*f.ppf(0.05,n_B-1,n_A-1)\n",
        "limite_superior = s_A**2/s_B**2*f.ppf(0.95,n_B-1,n_A-1)\n",
        "print(\"(\",limite_inferior,\",\", limite_superior, \")\")"
      ],
      "metadata": {
        "colab": {
          "base_uri": "https://localhost:8080/"
        },
        "id": "eZ4vwNucQSP7",
        "outputId": "f20b7574-7032-4978-9a42-757affc55ddd"
      },
      "execution_count": null,
      "outputs": [
        {
          "output_type": "stream",
          "name": "stdout",
          "text": [
            "( 0.28283047253487315 , 1.3422966523532684 )\n"
          ]
        }
      ]
    },
    {
      "cell_type": "code",
      "source": [
        "S_p = math.sqrt(((n_A -1)*s_A**2+(n_B -1)*s_B**2)/(n_A + n_B -2))\n",
        "S_p"
      ],
      "metadata": {
        "colab": {
          "base_uri": "https://localhost:8080/"
        },
        "id": "FKqig8sKRq5r",
        "outputId": "949d7a75-fc31-46ec-efb2-6146fa0660ab"
      },
      "execution_count": null,
      "outputs": [
        {
          "output_type": "execute_result",
          "data": {
            "text/plain": [
              "8.166040076212937"
            ]
          },
          "metadata": {},
          "execution_count": 20
        }
      ]
    },
    {
      "cell_type": "code",
      "source": [
        "limite_inferior = (x_barra_A-x_barra_B) - t.ppf(0.975,n_A+n_B-2) * S_p * math.sqrt(1/n_B+1/n_A)\n",
        "limite_superior = (x_barra_A-x_barra_B) + t.ppf(0.975,n_A+n_B-2) * S_p * math.sqrt(1/n_B+1/n_A)\n",
        "print(\"(\",limite_inferior,limite_superior,\")\")"
      ],
      "metadata": {
        "colab": {
          "base_uri": "https://localhost:8080/"
        },
        "id": "vd0ZV4ZwSOke",
        "outputId": "21a54267-b95e-4de7-969f-41a2c47443ed"
      },
      "execution_count": null,
      "outputs": [
        {
          "output_type": "stream",
          "name": "stdout",
          "text": [
            "( -8.25398690994842 2.253986909948421 )\n"
          ]
        }
      ]
    },
    {
      "cell_type": "code",
      "source": [
        "limite_inferior = 185.7 - norm.ppf(0.995,0,1)*2.5/math.sqrt(9)\n",
        "limite_superior = 185.7 + norm.ppf(0.995,0,1)*2.5/math.sqrt(9)\n",
        "print(f\"({limite_inferior},{limite_superior})\")"
      ],
      "metadata": {
        "colab": {
          "base_uri": "https://localhost:8080/"
        },
        "id": "rL1vTWPNiaVN",
        "outputId": "6f97bc69-b406-436f-cb81-a81c500bb696"
      },
      "execution_count": null,
      "outputs": [
        {
          "output_type": "stream",
          "name": "stdout",
          "text": [
            "(183.5534755803759,187.84652441962407)\n"
          ]
        }
      ]
    },
    {
      "cell_type": "code",
      "source": [
        "(norm.ppf(0.995,0,1)*2.5)**2"
      ],
      "metadata": {
        "colab": {
          "base_uri": "https://localhost:8080/"
        },
        "id": "I9X0YRJyjJzY",
        "outputId": "91313a0c-e9a4-476b-9b24-10a84ba9db41"
      },
      "execution_count": null,
      "outputs": [
        {
          "output_type": "execute_result",
          "data": {
            "text/plain": [
              "41.46810375638258"
            ]
          },
          "metadata": {},
          "execution_count": 3
        }
      ]
    },
    {
      "cell_type": "code",
      "source": [
        "x = [12.5, 15.2, 14.6, 13.8, 11.9, 17.2, 12.7, 13.9, 14.5]\n",
        "y = [10.2, 11.8, 9.5, 12.1, 10.8, 12.5, 9.9, 9.7, 12.2]\n",
        "x_barra = stat.mean(x)\n",
        "y_barra = stat.mean(y)\n",
        "s_x = stat.stdev(x)\n",
        "s_y = stat.stdev(y)\n",
        "n_x = 9\n",
        "n_y = 9"
      ],
      "metadata": {
        "id": "qzx0kBfajy3f"
      },
      "execution_count": null,
      "outputs": []
    },
    {
      "cell_type": "code",
      "source": [
        "S_p = math.sqrt(((n_x -1)*s_x**2+(n_y -1)*s_y**2)/(n_x + n_y -2))\n",
        "S_p"
      ],
      "metadata": {
        "colab": {
          "base_uri": "https://localhost:8080/"
        },
        "id": "gSSyP2UHkS_2",
        "outputId": "9a7326cc-866a-4b48-aac9-a0fcd3c52d5b"
      },
      "execution_count": null,
      "outputs": [
        {
          "output_type": "execute_result",
          "data": {
            "text/plain": [
              "1.4150971698084904"
            ]
          },
          "metadata": {},
          "execution_count": 7
        }
      ]
    },
    {
      "cell_type": "code",
      "source": [
        "limite_inferior = (x_barra-y_barra) - t.ppf(0.95,n_x+n_y-2) * S_p * math.sqrt(1/n_x+1/n_y)\n",
        "limite_superior = (x_barra-y_barra) + t.ppf(0.95,n_x+n_y-2) * S_p * math.sqrt(1/n_x+1/n_y)\n",
        "print(\"(\",limite_inferior,limite_superior,\")\")"
      ],
      "metadata": {
        "colab": {
          "base_uri": "https://localhost:8080/"
        },
        "id": "gYNCr_EFlHP1",
        "outputId": "3e220b6e-f4da-42fe-88e3-cfe3e27f8b38"
      },
      "execution_count": null,
      "outputs": [
        {
          "output_type": "stream",
          "name": "stdout",
          "text": [
            "( 1.9020169914706924 4.231316341862641 )\n"
          ]
        }
      ]
    },
    {
      "cell_type": "code",
      "source": [
        "n_h = 1545\n",
        "n_m = 1691\n",
        "p_h = 0.675\n",
        "p_m = 0.651"
      ],
      "metadata": {
        "id": "WNyGTJj4majI"
      },
      "execution_count": null,
      "outputs": []
    },
    {
      "cell_type": "code",
      "source": [
        "limite_inferior = (p_h - p_m) - norm.ppf(0.975,0,1)*math.sqrt((p_h*(1-p_h)/n_h)+(p_m*(1-p_m)/n_m))\n",
        "limite_superior = (p_h - p_m) + norm.ppf(0.975,0,1)*math.sqrt((p_h*(1-p_h)/n_h)+(p_m*(1-p_m)/n_m))\n",
        "print(\"(\",limite_inferior,\",\", limite_superior, \")\")"
      ],
      "metadata": {
        "colab": {
          "base_uri": "https://localhost:8080/"
        },
        "id": "tkjN-1IanD_J",
        "outputId": "4657147b-78e1-4061-a7f8-c3fceb426fe3"
      },
      "execution_count": null,
      "outputs": [
        {
          "output_type": "stream",
          "name": "stdout",
          "text": [
            "( -0.008581892553179336 , 0.05658189255317938 )\n"
          ]
        }
      ]
    }
  ]
}