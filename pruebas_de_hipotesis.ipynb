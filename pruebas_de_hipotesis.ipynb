{
  "nbformat": 4,
  "nbformat_minor": 0,
  "metadata": {
    "colab": {
      "provenance": [],
      "include_colab_link": true
    },
    "kernelspec": {
      "name": "python3",
      "display_name": "Python 3"
    },
    "language_info": {
      "name": "python"
    }
  },
  "cells": [
    {
      "cell_type": "markdown",
      "metadata": {
        "id": "view-in-github",
        "colab_type": "text"
      },
      "source": [
        "<a href=\"https://colab.research.google.com/github/mallenarenas/Inferencia-Estadistica/blob/main/pruebas_de_hipotesis.ipynb\" target=\"_parent\"><img src=\"https://colab.research.google.com/assets/colab-badge.svg\" alt=\"Open In Colab\"/></a>"
      ]
    },
    {
      "cell_type": "code",
      "execution_count": null,
      "metadata": {
        "id": "rhe1oH4O2Ow8"
      },
      "outputs": [],
      "source": [
        "import numpy as np\n",
        "from scipy.stats import norm, t, chi2,f\n",
        "import math\n",
        "import statistics as stat"
      ]
    },
    {
      "cell_type": "markdown",
      "source": [
        "<h1> Problema 1 </h1>\n",
        "Se ha tomado un examen durante varios años con $\\mu = 70$ y $\\sigma^2 = 9$. Una escuela que utiliza por primera vez este examen lo toma a 25 alumnos, que obtuvieron como promedio $\\bar{x}$ = 72 y una varianza $s^2 = 12$ (Suponga que los puntajes se distribuyen normal)."
      ],
      "metadata": {
        "id": "OFEU7Z-HDVZY"
      }
    },
    {
      "cell_type": "markdown",
      "source": [
        "a) ¿Hay raz ón para creer que las calificaciones de todos los estudiantes de escuela tuvieron una varianza de 9 con un nivel de significación del 10%?"
      ],
      "metadata": {
        "id": "qsOkeHdZDxTQ"
      }
    },
    {
      "cell_type": "markdown",
      "source": [
        "$H_0: \\sigma^2 = 9$\n",
        "\n",
        "$H_1: \\sigma^2 \\neq 9$"
      ],
      "metadata": {
        "id": "DnQimtY2IYnr"
      }
    },
    {
      "cell_type": "code",
      "source": [
        "# Datos del problema\n",
        "x_barra = 72\n",
        "s = math.sqrt(12)\n",
        "n = 25\n",
        "varianza_0 = 9\n",
        "alpha = 0.1"
      ],
      "metadata": {
        "id": "zCzPuTmjAtp8"
      },
      "execution_count": null,
      "outputs": []
    },
    {
      "cell_type": "code",
      "source": [
        "# Calcular el estadístico de prueba Chi-cuadrado\n",
        "estadistico_prueba_chi2 = (n-1)*s**2/varianza_0\n",
        "estadistico_prueba_chi2"
      ],
      "metadata": {
        "colab": {
          "base_uri": "https://localhost:8080/"
        },
        "id": "7uNzlzQtAwd4",
        "outputId": "9696adf6-e26a-44bf-b7db-0802b16aab50"
      },
      "execution_count": null,
      "outputs": [
        {
          "output_type": "execute_result",
          "data": {
            "text/plain": [
              "31.999999999999993"
            ]
          },
          "metadata": {},
          "execution_count": 64
        }
      ]
    },
    {
      "cell_type": "code",
      "source": [
        "# Calcular los valores críticos\n",
        "valor_critico1 = chi2.ppf(alpha/2,n-1)\n",
        "valor_critico2 = chi2.ppf(1 - alpha/2,n-1)\n",
        "print(valor_critico1,valor_critico2)"
      ],
      "metadata": {
        "colab": {
          "base_uri": "https://localhost:8080/"
        },
        "id": "oCBvlqEYAzOr",
        "outputId": "bb9e1bd2-ef78-4e0e-8e2b-dd2a5e27cff1"
      },
      "execution_count": null,
      "outputs": [
        {
          "output_type": "stream",
          "name": "stdout",
          "text": [
            "13.848425027170224 36.41502850180731\n"
          ]
        }
      ]
    },
    {
      "cell_type": "code",
      "source": [
        "# Tomar una decisión\n",
        "if estadistico_prueba_chi2 < valor_critico1 or estadistico_prueba_chi2 > valor_critico2:\n",
        "    print(\"Rechazamos la hipótesis nula\")\n",
        "else:\n",
        "    print(\"No rechazamos la hipótesis nula\")"
      ],
      "metadata": {
        "colab": {
          "base_uri": "https://localhost:8080/"
        },
        "id": "JdE6kMJsA4WE",
        "outputId": "d99b7de0-cec4-454e-b2c5-09a09c02da44"
      },
      "execution_count": null,
      "outputs": [
        {
          "output_type": "stream",
          "name": "stdout",
          "text": [
            "No rechazamos la hipótesis nula\n"
          ]
        }
      ]
    },
    {
      "cell_type": "markdown",
      "source": [
        "Con una confianza del 90%, no existe evidencia significativa para rechazar la hipótesis de que $\\sigma^2 = 9$."
      ],
      "metadata": {
        "id": "nRqWAt9YGdVo"
      }
    },
    {
      "cell_type": "code",
      "source": [
        "# Calcular el valor p\n",
        "p_valor = 2 * min(chi2.cdf(estadistico_prueba_chi2, n-1), 1 - chi2.cdf(estadistico_prueba_chi2, n-1))\n",
        "\n",
        "\n",
        "print(f\"Estadística de prueba: {estadistico_prueba_chi2}\")\n",
        "print(f\"Valores críticos: {valor_critico1}, {valor_critico2}\")\n",
        "print(f\"P-valor: {p_valor}\")"
      ],
      "metadata": {
        "colab": {
          "base_uri": "https://localhost:8080/"
        },
        "id": "ZWRh5ZMqA4IP",
        "outputId": "5302f0a7-118b-41d4-8fde-d9911d8250bc"
      },
      "execution_count": null,
      "outputs": [
        {
          "output_type": "stream",
          "name": "stdout",
          "text": [
            "Estadística de prueba: 31.999999999999993\n",
            "Valores críticos: 13.848425027170224, 36.41502850180731\n",
            "P-valor: 0.25398534013268903\n"
          ]
        }
      ]
    },
    {
      "cell_type": "markdown",
      "source": [
        "No hay evidencia contra $H_0$."
      ],
      "metadata": {
        "id": "Im315FyGJ6JV"
      }
    },
    {
      "cell_type": "markdown",
      "source": [
        "b) Se cree que el puntaje promedio de esta escuela es superior a 70. ¿Corroboran los datos esta creencia?"
      ],
      "metadata": {
        "id": "MUflBagUIRFS"
      }
    },
    {
      "cell_type": "markdown",
      "source": [
        "$ H_0: \\mu = 70 $\n",
        "\n",
        "$ H_1: \\mu >70 $"
      ],
      "metadata": {
        "id": "eiUJ_Yv2I8RH"
      }
    },
    {
      "cell_type": "code",
      "source": [
        "# Calcular el estadístico de prueba Z\n",
        "estadistico_prueba_z = (x_barra - 70)/(3/math.sqrt(n))\n",
        "estadistico_prueba_z"
      ],
      "metadata": {
        "colab": {
          "base_uri": "https://localhost:8080/"
        },
        "id": "e7h43uHrJQ_h",
        "outputId": "f667446f-3c24-450c-e6d0-23f3bf55497e"
      },
      "execution_count": null,
      "outputs": [
        {
          "output_type": "execute_result",
          "data": {
            "text/plain": [
              "3.3333333333333335"
            ]
          },
          "metadata": {},
          "execution_count": 68
        }
      ]
    },
    {
      "cell_type": "code",
      "source": [
        "# Calcular el valor crítico\n",
        "valor_critico = norm.ppf(1-alpha,0,1)\n",
        "valor_critico"
      ],
      "metadata": {
        "colab": {
          "base_uri": "https://localhost:8080/"
        },
        "id": "mmcu4v6OLQyt",
        "outputId": "1192a5ea-85c2-4494-c2b2-76871473d7d5"
      },
      "execution_count": null,
      "outputs": [
        {
          "output_type": "execute_result",
          "data": {
            "text/plain": [
              "1.2815515655446004"
            ]
          },
          "metadata": {},
          "execution_count": 69
        }
      ]
    },
    {
      "cell_type": "code",
      "source": [
        "# Tomar una decisión\n",
        "if estadistico_prueba_z > valor_critico:\n",
        "    print(\"Rechazamos la hipótesis nula\")\n",
        "else:\n",
        "    print(\"No rechazamos la hipótesis nula\")"
      ],
      "metadata": {
        "colab": {
          "base_uri": "https://localhost:8080/"
        },
        "id": "Q8XXkpAjLo3h",
        "outputId": "62c5b179-c3f8-4964-935c-4baaa4588ee9"
      },
      "execution_count": null,
      "outputs": [
        {
          "output_type": "stream",
          "name": "stdout",
          "text": [
            "Rechazamos la hipótesis nula\n"
          ]
        }
      ]
    },
    {
      "cell_type": "markdown",
      "source": [
        "Al 90% de confianza, existe evidencia significativa de que el promedio de la escuela es superior a 70."
      ],
      "metadata": {
        "id": "ZZ5vSz7kL4a-"
      }
    },
    {
      "cell_type": "code",
      "source": [
        "# Calcular el valor p\n",
        "p_valor = 1-norm.cdf(estadistico_prueba_z, 0,1) # P()\n",
        "\n",
        "\n",
        "print(f\"Estadística de prueba: {estadistico_prueba_z}\")\n",
        "print(f\"Valor crítico: {valor_critico}\")\n",
        "print(f\"P-valor: {p_valor}\")"
      ],
      "metadata": {
        "colab": {
          "base_uri": "https://localhost:8080/"
        },
        "id": "2UT3unBhMUy_",
        "outputId": "28efe458-b2f3-4b0f-f42a-461538dc1221"
      },
      "execution_count": null,
      "outputs": [
        {
          "output_type": "stream",
          "name": "stdout",
          "text": [
            "Estadística de prueba: 3.3333333333333335\n",
            "Valor crítico: 1.2815515655446004\n",
            "P-valor: 0.0004290603331967846\n"
          ]
        }
      ]
    },
    {
      "cell_type": "markdown",
      "source": [
        "Dado el valor p, podemos decir que existe evidencia muy fuerte contra $H_0$."
      ],
      "metadata": {
        "id": "6TfTvhewN-ue"
      }
    },
    {
      "cell_type": "markdown",
      "source": [
        "<h1> Problema 2 </h1>\n",
        "Un investigador selecciona muestras aleatorias de 120 psicólogos y 80 psiquiatras para investigar sus opiniones acerca de si la esquizofrenia es causada por anormalidad bioquímica o una inadaptación originada en la niñez. La tabla que sigue son los resultados de esta investigación."
      ],
      "metadata": {
        "id": "VSUVZV4Kiaj0"
      }
    },
    {
      "cell_type": "code",
      "source": [
        "anomalidad_bioquimica_psicólogos = 60\n",
        "anomalidad_bioquimica_psiquiatras = 50\n",
        "n_psicologos = 120\n",
        "n_psiquiatras = 80\n",
        "p_psicologos = 60/120\n",
        "p_psiquiatras = 50/80\n",
        "print(p_psicologos,p_psiquiatras)"
      ],
      "metadata": {
        "colab": {
          "base_uri": "https://localhost:8080/"
        },
        "id": "g4MwpY3tjBtJ",
        "outputId": "e273ce9c-6fd6-4eea-ad92-dbf3916ba6ad"
      },
      "execution_count": null,
      "outputs": [
        {
          "output_type": "stream",
          "name": "stdout",
          "text": [
            "0.5 0.625\n"
          ]
        }
      ]
    },
    {
      "cell_type": "markdown",
      "source": [
        "Si usted está dispuesto a rechazar una hipótesis verdadera no más de una vez en 100, ¿rechazaría la hipótesis de que las opiniones de psicólogos y psiquiatras acerca de las causas de la esquizofrenia son las mismas?"
      ],
      "metadata": {
        "id": "u1MPWiUWjtA_"
      }
    },
    {
      "cell_type": "markdown",
      "source": [
        "$H_0: p_1 = p_2$ ó equivalentemente, $H_0: p_1-p_2 = 0 $\n",
        "\n",
        "$H_1: p_1 \\neq p_2 $ ó equivalentemente,  $H_1: p_1-p_2 \\neq 0$"
      ],
      "metadata": {
        "id": "0jKoTvCoj7Lg"
      }
    },
    {
      "cell_type": "code",
      "source": [
        "# Calcular el estadístico de prueba\n",
        "p = (n_psicologos*p_psicologos+n_psiquiatras*p_psiquiatras)/(n_psiquiatras+n_psicologos)\n",
        "\n",
        "estadistico_prueba_z = (p_psicologos-p_psiquiatras-0)/math.sqrt((p*(1-p))*(1/n_psicologos+1/n_psiquiatras))\n",
        "estadistico_prueba_z"
      ],
      "metadata": {
        "colab": {
          "base_uri": "https://localhost:8080/"
        },
        "id": "xD6cg5e2j6Mh",
        "outputId": "b967f655-14ca-4cf5-b937-acdde9ffd412"
      },
      "execution_count": null,
      "outputs": [
        {
          "output_type": "execute_result",
          "data": {
            "text/plain": [
              "-1.7407765595569784"
            ]
          },
          "metadata": {},
          "execution_count": 73
        }
      ]
    },
    {
      "cell_type": "code",
      "source": [
        "# Calcular el valor crítico\n",
        "alpha = 0.08172275229865933\n",
        "valor_critico = -norm.ppf(1-alpha/2,0,1)\n",
        "valor_critico"
      ],
      "metadata": {
        "colab": {
          "base_uri": "https://localhost:8080/"
        },
        "id": "O2beC6UJkxHA",
        "outputId": "f1568783-e350-4a5a-ed84-23a4f46055d6"
      },
      "execution_count": null,
      "outputs": [
        {
          "output_type": "execute_result",
          "data": {
            "text/plain": [
              "-1.740776559556978"
            ]
          },
          "metadata": {},
          "execution_count": 74
        }
      ]
    },
    {
      "cell_type": "code",
      "source": [
        "# Tomar una decisión\n",
        "if estadistico_prueba_z < valor_critico:\n",
        "    print(\"Rechazamos la hipótesis nula\")\n",
        "else:\n",
        "    print(\"No rechazamos la hipótesis nula\")"
      ],
      "metadata": {
        "colab": {
          "base_uri": "https://localhost:8080/"
        },
        "id": "0K19rKNLnMrr",
        "outputId": "a66726dc-3c93-440c-8492-4e98266f6cca"
      },
      "execution_count": null,
      "outputs": [
        {
          "output_type": "stream",
          "name": "stdout",
          "text": [
            "Rechazamos la hipótesis nula\n"
          ]
        }
      ]
    },
    {
      "cell_type": "code",
      "source": [
        "# Calcular el valor p\n",
        "p_valor = 2*norm.cdf(estadistico_prueba_z, 0,1) # P()\n",
        "\n",
        "\n",
        "print(f\"Estadística de prueba: {estadistico_prueba_z}\")\n",
        "print(f\"Valor crítico: {valor_critico}\")\n",
        "print(f\"P-valor: {p_valor}\")"
      ],
      "metadata": {
        "colab": {
          "base_uri": "https://localhost:8080/"
        },
        "id": "G4mHcW4FnewB",
        "outputId": "92548dda-2480-4fa9-c2c9-af32f1a3d079"
      },
      "execution_count": null,
      "outputs": [
        {
          "output_type": "stream",
          "name": "stdout",
          "text": [
            "Estadística de prueba: -1.7407765595569784\n",
            "Valor crítico: -1.740776559556978\n",
            "P-valor: 0.08172275229865932\n"
          ]
        }
      ]
    },
    {
      "cell_type": "markdown",
      "source": [
        "Existe evidencia débil contra $H_0$"
      ],
      "metadata": {
        "id": "AUHvhwYkR_3D"
      }
    },
    {
      "cell_type": "markdown",
      "source": [
        "<h1> Problema 3 </h1>\n",
        "\n",
        "Dos grupos de 50 niños de una escuela elemental, han sido enseñados a leer por dos métodos diferentes. Se sabe que el primer método tiene una desviación típica de 5 puntos y el segundo tiene una desviación típica de 4 puntos. Una vez terminada la instrucción, una prueba de lectura da los siguientes resultados: ¿Se puede afirmar que el primer método es mayor por lo menos en 5 puntos que el segundo método?\n"
      ],
      "metadata": {
        "id": "z8bMOgW0i0XQ"
      }
    },
    {
      "cell_type": "code",
      "source": [
        "grupo1 = [86,85,89,90,87,84,89,86,75,84,87,68,85,89,88,90,86,90,88,90,90,92,\n",
        "  86,85,85,88,88,72,85,88,91,89,87,91,91,87,70,88,86,89,85,87,92,65,88,89,85,91,\n",
        "  88,86,83,87,84,86,87,88,78]\n",
        "grupo2 = [82,80,76,79,82,92,78,86,75,78,78,77,75,74,75,78,88,79,79,77,78,79,\n",
        "  81,85,77,78,76,77,75,78,81,80,75,81,80,81,74,75,73,76,77,89,75,77,79,76,76,76,\n",
        "  74,78,78,90,79,80,80,77,76]"
      ],
      "metadata": {
        "id": "xuiIo3lklb-9"
      },
      "execution_count": null,
      "outputs": []
    },
    {
      "cell_type": "markdown",
      "source": [
        "$H_0: \\mu_1 -\\mu_2 = 5$\n",
        "\n",
        "$H_1: \\mu_1 - \\mu_2 > 5$"
      ],
      "metadata": {
        "id": "q9kNA0TFlxS0"
      }
    },
    {
      "cell_type": "code",
      "source": [
        "x_barra1 = stat.mean(grupo1)\n",
        "x_barra2 = stat.mean(grupo2)\n",
        "\n",
        "print(x_barra1,x_barra2)"
      ],
      "metadata": {
        "colab": {
          "base_uri": "https://localhost:8080/"
        },
        "id": "Y61HN5GZpd61",
        "outputId": "91f25cf5-f4de-4ca8-ec28-5d91a5656272"
      },
      "execution_count": null,
      "outputs": [
        {
          "output_type": "stream",
          "name": "stdout",
          "text": [
            "85.84210526315789 78.6842105263158\n"
          ]
        }
      ]
    },
    {
      "cell_type": "code",
      "source": [
        "# Calcular el estadístico de prueba\n",
        "estadistico_prueba_z = (x_barra1-x_barra2-5)/math.sqrt(5**2/50+4**2/50)\n",
        "estadistico_prueba_z"
      ],
      "metadata": {
        "colab": {
          "base_uri": "https://localhost:8080/"
        },
        "id": "sj8HLSi5r8go",
        "outputId": "d091cb98-41d2-4f8f-c9ff-e120301bbf27"
      },
      "execution_count": null,
      "outputs": [
        {
          "output_type": "execute_result",
          "data": {
            "text/plain": [
              "2.3829960889835196"
            ]
          },
          "metadata": {},
          "execution_count": 79
        }
      ]
    },
    {
      "cell_type": "code",
      "source": [
        "# Calcular el valor crítico\n",
        "alpha = 0.05\n",
        "valor_critico = norm.ppf(1-alpha,0,1)\n",
        "valor_critico"
      ],
      "metadata": {
        "colab": {
          "base_uri": "https://localhost:8080/"
        },
        "id": "iI5RKel5sqM1",
        "outputId": "4b705271-360b-4ce2-99e3-2c58b657e3a6"
      },
      "execution_count": null,
      "outputs": [
        {
          "output_type": "execute_result",
          "data": {
            "text/plain": [
              "1.6448536269514722"
            ]
          },
          "metadata": {},
          "execution_count": 80
        }
      ]
    },
    {
      "cell_type": "code",
      "source": [
        "# Tomar una decisión\n",
        "if estadistico_prueba_z > valor_critico:\n",
        "    print(\"Rechazamos la hipótesis nula\")\n",
        "else:\n",
        "    print(\"No rechazamos la hipótesis nula\")"
      ],
      "metadata": {
        "colab": {
          "base_uri": "https://localhost:8080/"
        },
        "id": "wnAdb5bEtSMN",
        "outputId": "2ecb9225-f9df-4347-8b93-bc26a08d5946"
      },
      "execution_count": null,
      "outputs": [
        {
          "output_type": "stream",
          "name": "stdout",
          "text": [
            "Rechazamos la hipótesis nula\n"
          ]
        }
      ]
    },
    {
      "cell_type": "code",
      "source": [
        "# Calcular el valor p\n",
        "p_valor = 1-norm.cdf(estadistico_prueba_z, 0,1)\n",
        "\n",
        "\n",
        "print(f\"Estadística de prueba: {estadistico_prueba_z}\")\n",
        "print(f\"Valor crítico: {valor_critico}\")\n",
        "print(f\"P-valor: {p_valor}\")"
      ],
      "metadata": {
        "colab": {
          "base_uri": "https://localhost:8080/"
        },
        "id": "cyRO7X-6tivc",
        "outputId": "9e26f437-f4b6-4df5-816b-92f3044e3a01"
      },
      "execution_count": null,
      "outputs": [
        {
          "output_type": "stream",
          "name": "stdout",
          "text": [
            "Estadística de prueba: 2.3829960889835196\n",
            "Valor crítico: 1.6448536269514722\n",
            "P-valor: 0.008586188385330762\n"
          ]
        }
      ]
    },
    {
      "cell_type": "markdown",
      "source": [
        "<h1> Problema 4 </h1>\n",
        "\n",
        "En un estudio de características corporales de las gaviotas de pico anillado, la variable considerada es la longitud del pico. Se dispone de los siguiente datos:"
      ],
      "metadata": {
        "id": "oAC5U7COlLVl"
      }
    },
    {
      "cell_type": "code",
      "source": [
        "n_h = 51\n",
        "n_m = 41\n",
        "x_barra_h = 59.1\n",
        "x_barra_m = 65.2\n",
        "s_h = 1.9\n",
        "s_m = 2"
      ],
      "metadata": {
        "id": "yDrf2OiLlcCp"
      },
      "execution_count": null,
      "outputs": []
    },
    {
      "cell_type": "markdown",
      "source": [
        "No se han detectado diferencias en la varianzas poblacionales. ¿Hay razón para sostener el argumento que la longitud media del pico de los machos es mayor que en las hembras?"
      ],
      "metadata": {
        "id": "w-v3fl8Fl1Rm"
      }
    },
    {
      "cell_type": "markdown",
      "source": [
        "$H_0: \\mu_h = \\mu_m$\n",
        "\n",
        "$H_1: \\mu_h < \\mu_m$"
      ],
      "metadata": {
        "id": "jBxKbS71nLQN"
      }
    },
    {
      "cell_type": "code",
      "source": [
        "s_p = math.sqrt((((n_h-1)*s_h**2+(n_m-1)*s_m**2)/(n_h+n_m-2)))\n",
        "s_p"
      ],
      "metadata": {
        "colab": {
          "base_uri": "https://localhost:8080/"
        },
        "id": "s0qeD50AlyxQ",
        "outputId": "9f63883a-12be-4aa0-8a98-5187819eed73"
      },
      "execution_count": null,
      "outputs": [
        {
          "output_type": "execute_result",
          "data": {
            "text/plain": [
              "1.9450792614526877"
            ]
          },
          "metadata": {},
          "execution_count": 84
        }
      ]
    },
    {
      "cell_type": "code",
      "source": [
        "# Calcular el estadístico de prueba\n",
        "estadistico_prueba = (x_barra_h-x_barra_m)/(s_p*math.sqrt(1/n_h+1/n_m))\n",
        "estadistico_prueba"
      ],
      "metadata": {
        "colab": {
          "base_uri": "https://localhost:8080/"
        },
        "id": "neSlTUpkmeUw",
        "outputId": "4cc6870e-c761-4754-d7a4-31927b85da0e"
      },
      "execution_count": null,
      "outputs": [
        {
          "output_type": "execute_result",
          "data": {
            "text/plain": [
              "-14.951185655309123"
            ]
          },
          "metadata": {},
          "execution_count": 85
        }
      ]
    },
    {
      "cell_type": "code",
      "source": [
        "# Calcular el valor crítico\n",
        "alpha = 0.05\n",
        "valor_critico = -t.ppf(1-alpha,n_h+n_m-2)\n",
        "valor_critico"
      ],
      "metadata": {
        "colab": {
          "base_uri": "https://localhost:8080/"
        },
        "id": "f_pd8wfpnBja",
        "outputId": "ce8b0b2b-efe9-4150-93ea-a8a959cff59b"
      },
      "execution_count": null,
      "outputs": [
        {
          "output_type": "execute_result",
          "data": {
            "text/plain": [
              "-1.6619610839969403"
            ]
          },
          "metadata": {},
          "execution_count": 86
        }
      ]
    },
    {
      "cell_type": "code",
      "source": [
        "# Tomar una decisión\n",
        "if estadistico_prueba < valor_critico:\n",
        "    print(\"Rechazamos la hipótesis nula\")\n",
        "else:\n",
        "    print(\"No rechazamos la hipótesis nula\")"
      ],
      "metadata": {
        "colab": {
          "base_uri": "https://localhost:8080/"
        },
        "id": "4P0pgMKwnrJD",
        "outputId": "d6af7049-9283-4f75-8610-10697c10218a"
      },
      "execution_count": null,
      "outputs": [
        {
          "output_type": "stream",
          "name": "stdout",
          "text": [
            "Rechazamos la hipótesis nula\n"
          ]
        }
      ]
    },
    {
      "cell_type": "code",
      "source": [
        "# Calcular el valor p\n",
        "p_valor = t.cdf(estadistico_prueba, n_h+n_m-2)\n",
        "\n",
        "\n",
        "print(f\"Estadística de prueba: {estadistico_prueba}\")\n",
        "print(f\"Valor crítico: {valor_critico}\")\n",
        "print(f\"P-valor: {p_valor}\")"
      ],
      "metadata": {
        "colab": {
          "base_uri": "https://localhost:8080/"
        },
        "id": "FoNBDXd4nxeB",
        "outputId": "2f7f7250-79bb-4785-abf3-84b75c125452"
      },
      "execution_count": null,
      "outputs": [
        {
          "output_type": "stream",
          "name": "stdout",
          "text": [
            "Estadística de prueba: -14.951185655309123\n",
            "Valor crítico: -1.6619610839969403\n",
            "P-valor: 2.0046048414223186e-26\n"
          ]
        }
      ]
    },
    {
      "cell_type": "markdown",
      "source": [
        "Existe evidencia muy fuerte para afirmar que el pico de los machos es mayor que el de las hembras"
      ],
      "metadata": {
        "id": "2rhDM7R2oIuR"
      }
    },
    {
      "cell_type": "markdown",
      "source": [
        "<h1>Problema 5 </h1>\n",
        "Para comparar la efectividad de un programa de seguridad en el trabajo, se observó en 6 distintas plantas el número de accidentes por mes antes y después del programa. Los datos aparecen en la tabla siguiente. ¿Proporcionan estos datos evidencia suficiente para indicar que el programa ha sido efectivo al reducir el número de accidentes laborales por mes?. Haga la prueba al $\\alpha = 0.1$ de nivel de significación. Calcule el valor-p."
      ],
      "metadata": {
        "id": "5hByTa6foZWn"
      }
    },
    {
      "cell_type": "code",
      "source": [
        "antes_del_programa = [38,64,42,70,58,30]\n",
        "despues_del_programa = [31,58,43,65,52,29]"
      ],
      "metadata": {
        "id": "xhrWpAFmoh4-"
      },
      "execution_count": null,
      "outputs": []
    },
    {
      "cell_type": "markdown",
      "source": [
        "$H_0: \\mu_a -\\mu_d = 0$\n",
        "\n",
        "$H_1: \\mu_a -\\mu_d > 0$"
      ],
      "metadata": {
        "id": "nOztgqsneR3B"
      }
    },
    {
      "cell_type": "code",
      "source": [
        "d = []\n",
        "for i in range(0,len(antes_del_programa)):\n",
        "  d.append(antes_del_programa[i]-despues_del_programa[i])\n",
        "d"
      ],
      "metadata": {
        "colab": {
          "base_uri": "https://localhost:8080/"
        },
        "id": "Hf9xbEEGfay6",
        "outputId": "773a91fd-1ab1-4d7b-db92-361244cc37e0"
      },
      "execution_count": null,
      "outputs": [
        {
          "output_type": "execute_result",
          "data": {
            "text/plain": [
              "[7, 6, -1, 5, 6, 1]"
            ]
          },
          "metadata": {},
          "execution_count": 90
        }
      ]
    },
    {
      "cell_type": "code",
      "source": [
        "d_barra = stat.mean(d)\n",
        "s_d = stat.stdev(d)\n",
        "n = len(d)\n",
        "print(d_barra, s_d)"
      ],
      "metadata": {
        "colab": {
          "base_uri": "https://localhost:8080/"
        },
        "id": "7yx4e4gHgc7F",
        "outputId": "ee30cff2-3a4e-400e-92c3-aeba32e71275"
      },
      "execution_count": null,
      "outputs": [
        {
          "output_type": "stream",
          "name": "stdout",
          "text": [
            "4 3.22490309931942\n"
          ]
        }
      ]
    },
    {
      "cell_type": "code",
      "source": [
        "# Calcular el estadístico de prueba\n",
        "estadistico_prueba = d_barra/(s_d/math.sqrt(n))\n",
        "estadistico_prueba"
      ],
      "metadata": {
        "colab": {
          "base_uri": "https://localhost:8080/"
        },
        "id": "ALwR0OCEe_hJ",
        "outputId": "2e945d64-55b9-4f1e-a8be-f19825590860"
      },
      "execution_count": null,
      "outputs": [
        {
          "output_type": "execute_result",
          "data": {
            "text/plain": [
              "3.0382181012509992"
            ]
          },
          "metadata": {},
          "execution_count": 92
        }
      ]
    },
    {
      "cell_type": "code",
      "source": [
        "# Calcular el valor crítico\n",
        "alpha = 0.1\n",
        "valor_critico = t.ppf(1-alpha,n-1)\n",
        "valor_critico"
      ],
      "metadata": {
        "colab": {
          "base_uri": "https://localhost:8080/"
        },
        "id": "ZIGbjiIEhDqo",
        "outputId": "193d2ae2-78c9-488c-b494-8a24bbee51ce"
      },
      "execution_count": null,
      "outputs": [
        {
          "output_type": "execute_result",
          "data": {
            "text/plain": [
              "1.4758840487820273"
            ]
          },
          "metadata": {},
          "execution_count": 93
        }
      ]
    },
    {
      "cell_type": "code",
      "source": [
        "# Tomar una decisión\n",
        "if estadistico_prueba > valor_critico:\n",
        "    print(\"Rechazamos la hipótesis nula\")\n",
        "else:\n",
        "    print(\"No rechazamos la hipótesis nula\")"
      ],
      "metadata": {
        "colab": {
          "base_uri": "https://localhost:8080/"
        },
        "id": "0Gtk2-OuiRDS",
        "outputId": "68a48c81-0b7d-47a6-d0bd-0d107f529f42"
      },
      "execution_count": null,
      "outputs": [
        {
          "output_type": "stream",
          "name": "stdout",
          "text": [
            "Rechazamos la hipótesis nula\n"
          ]
        }
      ]
    },
    {
      "cell_type": "code",
      "source": [
        "valor_p = 1-t.cdf(estadistico_prueba,n-1)\n",
        "print(f\"Valor P = {valor_p}\")"
      ],
      "metadata": {
        "colab": {
          "base_uri": "https://localhost:8080/"
        },
        "id": "zyxNJ_aBiZa5",
        "outputId": "fe598bc5-053f-4312-be0c-399fb6d74e6c"
      },
      "execution_count": null,
      "outputs": [
        {
          "output_type": "stream",
          "name": "stdout",
          "text": [
            "Valor P = 0.01440468984912846\n"
          ]
        }
      ]
    },
    {
      "cell_type": "markdown",
      "source": [
        "Hay evidencia fuerte para afirmar que el programa reduce los accidentes en el trabajo"
      ],
      "metadata": {
        "id": "aUQ4NAlZjsf5"
      }
    },
    {
      "cell_type": "markdown",
      "source": [
        "<h1>Problema 6 </h1>\n",
        "Los siguientes datos dan el aumento de peso de 20 conejos de los cuales la mitad recibió su proteína de maní crudo y la otra mitad de maní tostado. Probar si el tostado de maní ha tenido un menor efecto en el aumento del peso de los conejos. Los aumentos de peso están registrados en gramos. Use $\\alpha = 0.05$."
      ],
      "metadata": {
        "id": "lPWbwUGGo_sA"
      }
    },
    {
      "cell_type": "code",
      "source": [
        "crudo = [61,60,56,63,56,63,59,56,44,61]\n",
        "tostado = [55,54,47,59,51,61,57,54,62,58]"
      ],
      "metadata": {
        "id": "-NJHdkyMpdCH"
      },
      "execution_count": null,
      "outputs": []
    },
    {
      "cell_type": "markdown",
      "source": [
        "$H_0: \\sigma_c^2 = \\sigma_t^2$\n",
        "\n",
        "$H_1: \\sigma_c^2 \\neq \\sigma_t^2$"
      ],
      "metadata": {
        "id": "zAttv7D1k4E-"
      }
    },
    {
      "cell_type": "code",
      "source": [
        "x_barra_c = stat.mean(crudo)\n",
        "s_c = stat.stdev(crudo)\n",
        "x_barra_t = stat.mean(tostado)\n",
        "s_t = stat.stdev(tostado)\n",
        "n_c = len(crudo)\n",
        "n_t =len(tostado)\n"
      ],
      "metadata": {
        "id": "vlhm321IlPzp"
      },
      "execution_count": null,
      "outputs": []
    },
    {
      "cell_type": "code",
      "source": [
        "# Calcular el estadístico de prueba\n",
        "estadistico_prueba = s_c**2/s_t**2\n",
        "estadistico_prueba"
      ],
      "metadata": {
        "colab": {
          "base_uri": "https://localhost:8080/"
        },
        "id": "rebUPpF8lwem",
        "outputId": "e9dd7b1e-d412-494a-b29f-a383397742aa"
      },
      "execution_count": null,
      "outputs": [
        {
          "output_type": "execute_result",
          "data": {
            "text/plain": [
              "1.481540084388186"
            ]
          },
          "metadata": {},
          "execution_count": 98
        }
      ]
    },
    {
      "cell_type": "code",
      "source": [
        "# Calcular el valor crítico\n",
        "alpha = 0.57\n",
        "valor_critico1 = f.ppf(alpha/2,n_t-1,n_c-1)\n",
        "valor_critico2 = f.ppf(1-alpha/2,n_t-1,n_c-1)\n",
        "print(valor_critico1,valor_critico2)"
      ],
      "metadata": {
        "colab": {
          "base_uri": "https://localhost:8080/"
        },
        "id": "q2DyRGpnl_va",
        "outputId": "fad6e740-3a30-42ac-9429-0814ee733f1f"
      },
      "execution_count": null,
      "outputs": [
        {
          "output_type": "stream",
          "name": "stdout",
          "text": [
            "0.676690987838705 1.4777793970537676\n"
          ]
        }
      ]
    },
    {
      "cell_type": "code",
      "source": [
        "# Tomar una decisión\n",
        "if estadistico_prueba > valor_critico2 or estadistico_prueba < valor_critico1 :\n",
        "    print(\"Rechazamos la hipótesis nula\")\n",
        "else:\n",
        "    print(\"No rechazamos la hipótesis nula\")"
      ],
      "metadata": {
        "colab": {
          "base_uri": "https://localhost:8080/"
        },
        "id": "DkdannTusSN1",
        "outputId": "487e594a-12e5-4686-90e6-647d448db153"
      },
      "execution_count": null,
      "outputs": [
        {
          "output_type": "stream",
          "name": "stdout",
          "text": [
            "Rechazamos la hipótesis nula\n"
          ]
        }
      ]
    },
    {
      "cell_type": "code",
      "source": [
        "# Calcular el valor P\n",
        "valor_p = 2*min(f.cdf(estadistico_prueba,n_t-1,n_c-1),1-f.cdf(estadistico_prueba,n_t-1,n_c-1))\n",
        "print(f\"Valor P = {valor_p}\")"
      ],
      "metadata": {
        "colab": {
          "base_uri": "https://localhost:8080/"
        },
        "id": "HAqJMHWEsnLx",
        "outputId": "88c20930-32f5-47d0-ef64-90331cf51de1"
      },
      "execution_count": null,
      "outputs": [
        {
          "output_type": "stream",
          "name": "stdout",
          "text": [
            "Valor P = 0.5675078894828471\n"
          ]
        }
      ]
    },
    {
      "cell_type": "markdown",
      "source": [
        "Ahora podemos aplicar al problema el test para diferencia de medias con varianzas desconocidas pero iguales."
      ],
      "metadata": {
        "id": "Pns2lAYhtvPc"
      }
    },
    {
      "cell_type": "markdown",
      "source": [
        "$H_0: \\mu_c-\\mu_t = 0$\n",
        "\n",
        "$H_1: \\mu_c-\\mu_t > 0$"
      ],
      "metadata": {
        "id": "6z7j5KfqR_Ly"
      }
    },
    {
      "cell_type": "code",
      "source": [
        "s_p = math.sqrt(((n_c-1)*s_c**2+(n_t-1)*s_t**2)/(n_c+n_t-2))\n",
        "print(s_p, s_c, s_t)"
      ],
      "metadata": {
        "colab": {
          "base_uri": "https://localhost:8080/"
        },
        "id": "_L4Pm5nuR2O4",
        "outputId": "f05d33cf-cd8c-4f93-c9c9-26f45a75c404"
      },
      "execution_count": null,
      "outputs": [
        {
          "output_type": "stream",
          "name": "stdout",
          "text": [
            "5.112620550059322 5.586690532964137 4.589843860815601\n"
          ]
        }
      ]
    },
    {
      "cell_type": "code",
      "source": [
        "estadistico_prueba = (x_barra_c-x_barra_t-0)/s_p*math.sqrt(1/n_c+1/n_t)\n",
        "estadistico_prueba"
      ],
      "metadata": {
        "colab": {
          "base_uri": "https://localhost:8080/"
        },
        "id": "OYZ6tCNiUSiM",
        "outputId": "714c8a59-1f9b-4942-c2d1-97fc82bea240"
      },
      "execution_count": null,
      "outputs": [
        {
          "output_type": "execute_result",
          "data": {
            "text/plain": [
              "0.18369220663931637"
            ]
          },
          "metadata": {},
          "execution_count": 112
        }
      ]
    },
    {
      "cell_type": "code",
      "source": [
        "alpha = 0.1\n",
        "nu =n_c+n_t-2\n",
        "valor_critico = t.ppf(1-alpha,nu)\n",
        "valor_critico"
      ],
      "metadata": {
        "colab": {
          "base_uri": "https://localhost:8080/"
        },
        "id": "JveXZ47BVjBs",
        "outputId": "a0ec69fa-ca36-4059-f1b0-49885dc398a6"
      },
      "execution_count": null,
      "outputs": [
        {
          "output_type": "execute_result",
          "data": {
            "text/plain": [
              "-0.17891871864774395"
            ]
          },
          "metadata": {},
          "execution_count": 124
        }
      ]
    },
    {
      "cell_type": "markdown",
      "source": [
        "al 5% de significancia no se rechaza la hipótesis nula."
      ],
      "metadata": {
        "id": "jQlz3v1BWjf_"
      }
    },
    {
      "cell_type": "code",
      "source": [
        "valor_p = 1-t.cdf(estadistico_prueba,nu)\n",
        "valor_p"
      ],
      "metadata": {
        "colab": {
          "base_uri": "https://localhost:8080/"
        },
        "id": "7_MMOf3MWshx",
        "outputId": "7c894d22-a9ad-4550-e71d-4bc121fd62c8"
      },
      "execution_count": null,
      "outputs": [
        {
          "output_type": "execute_result",
          "data": {
            "text/plain": [
              "0.42815418118709725"
            ]
          },
          "metadata": {},
          "execution_count": 125
        }
      ]
    }
  ]
}