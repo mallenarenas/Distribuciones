{
  "nbformat": 4,
  "nbformat_minor": 0,
  "metadata": {
    "colab": {
      "provenance": [],
      "authorship_tag": "ABX9TyMJ3sE0Acbz2OZR7wLpIyEg",
      "include_colab_link": true
    },
    "kernelspec": {
      "name": "python3",
      "display_name": "Python 3"
    },
    "language_info": {
      "name": "python"
    }
  },
  "cells": [
    {
      "cell_type": "markdown",
      "metadata": {
        "id": "view-in-github",
        "colab_type": "text"
      },
      "source": [
        "<a href=\"https://colab.research.google.com/github/mallenarenas/Inferencia-Estadistica/blob/main/pruebas_bda_y_tdc.ipynb\" target=\"_parent\"><img src=\"https://colab.research.google.com/assets/colab-badge.svg\" alt=\"Open In Colab\"/></a>"
      ]
    },
    {
      "cell_type": "code",
      "execution_count": 5,
      "metadata": {
        "id": "qEpsd5knuXEb"
      },
      "outputs": [],
      "source": [
        "import numpy as np\n",
        "import pandas as pd\n",
        "from scipy.stats import norm, t, chi2, f, binom, poisson, geom\n",
        "import math\n",
        "import statistics as stat\n",
        "import matplotlib.pyplot as plt"
      ]
    },
    {
      "cell_type": "markdown",
      "source": [
        "<h1> Ejemplo prueba chi-cuadrado</h1>"
      ],
      "metadata": {
        "id": "JojSW5vb_AYc"
      }
    },
    {
      "cell_type": "markdown",
      "source": [
        "En un análisis de mercado que elaboró una empresa de marketing durante el año pasado se estabilizaron las participaciones del mercado con un 30% para la compañía A, 50% para la compañía B y 20% para la compañía C. La compañía C incorporará un nuevo producto al mercado y le pidió a la misma empresa si el nuevo producto causará una alteración en las participaciones de los tres competidores en el mercado."
      ],
      "metadata": {
        "id": "gY_GJannp-ej"
      }
    },
    {
      "cell_type": "markdown",
      "source": [
        "$H_0: p_1 =0,3 \\; p_2 =0,5 \\; p_3 =0,2$\n",
        "\n",
        "$H_a:$ Hay por lo menos una proporción que no es la que se indica."
      ],
      "metadata": {
        "id": "p48Kpp8dqVUx"
      }
    },
    {
      "cell_type": "markdown",
      "source": [
        "Supongamos que la empresa investigadora usó una muestra de 200 clientes para el estudio. A cada persona se le pidió su preferencia de compra entre las tres alternativas: El producto de la compañía A, el de la B o el nuevo producto de la C. Las respuestas se resumen en el vector O (observaciones):"
      ],
      "metadata": {
        "id": "6n92IB1cq0-A"
      }
    },
    {
      "cell_type": "markdown",
      "source": [
        "<h2>Desarrollo: </h2>"
      ],
      "metadata": {
        "id": "qGXkguWBQYEk"
      }
    },
    {
      "cell_type": "code",
      "source": [
        "O = [48, 98, 54] # Frecuencias observadas"
      ],
      "metadata": {
        "id": "nZYeSh1_rHag"
      },
      "execution_count": null,
      "outputs": []
    },
    {
      "cell_type": "code",
      "source": [
        "p1,p2,p3 = 0.3,0.5,0.2 # Probabilidades\n",
        "E = [p1*200,p2*200,p3*200] # Frecuencias esperadas\n",
        "E"
      ],
      "metadata": {
        "colab": {
          "base_uri": "https://localhost:8080/"
        },
        "id": "jeh6X8JfFa7k",
        "outputId": "fea0f481-889f-4d5f-c93f-e0fdeb14c76e"
      },
      "execution_count": null,
      "outputs": [
        {
          "output_type": "execute_result",
          "data": {
            "text/plain": [
              "[60.0, 100.0, 40.0]"
            ]
          },
          "metadata": {},
          "execution_count": 3
        }
      ]
    },
    {
      "cell_type": "code",
      "source": [
        "factor_a_sumar = []\n",
        "for i in range(0,len(O)):\n",
        "  factor_a_sumar.append((O[i]-E[i])**2/E[i]) # agrega elementos a la lista\n",
        "  print(factor_a_sumar)\n",
        "estadistico_prueba = sum((factor_a_sumar))\n",
        "print(f\"Estadístico de prueba: {estadistico_prueba}\")"
      ],
      "metadata": {
        "colab": {
          "base_uri": "https://localhost:8080/"
        },
        "id": "_eMXsW60GY0W",
        "outputId": "2748147d-4165-4c6e-ea40-62c1fb1d8566"
      },
      "execution_count": null,
      "outputs": [
        {
          "output_type": "stream",
          "name": "stdout",
          "text": [
            "[2.4]\n",
            "[2.4, 0.04]\n",
            "[2.4, 0.04, 4.9]\n",
            "Estadístico de prueba: 7.34\n"
          ]
        }
      ]
    },
    {
      "cell_type": "code",
      "source": [
        "alpha = 0.05\n",
        "valor_critico = chi2.ppf(1-alpha,len(O)-1)\n",
        "valor_critico"
      ],
      "metadata": {
        "colab": {
          "base_uri": "https://localhost:8080/"
        },
        "id": "aRFT85qiuZd7",
        "outputId": "a49f3891-47ef-4705-83f9-7f54a7d8775b"
      },
      "execution_count": null,
      "outputs": [
        {
          "output_type": "execute_result",
          "data": {
            "text/plain": [
              "5.991464547107979"
            ]
          },
          "metadata": {},
          "execution_count": 14
        }
      ]
    },
    {
      "cell_type": "code",
      "source": [
        "# Tomar una decisión\n",
        "if estadistico_prueba > valor_critico:\n",
        "    print(\"Rechazamos la hipótesis nula\")\n",
        "else:\n",
        "    print(\"No rechazamos la hipótesis nula\")"
      ],
      "metadata": {
        "colab": {
          "base_uri": "https://localhost:8080/"
        },
        "id": "rRayv3qqIq5M",
        "outputId": "ed236228-3326-4bfc-f5ec-f1fb6644e1aa"
      },
      "execution_count": null,
      "outputs": [
        {
          "output_type": "stream",
          "name": "stdout",
          "text": [
            "Rechazamos la hipótesis nula\n"
          ]
        }
      ]
    },
    {
      "cell_type": "markdown",
      "source": [
        "Luego se concluye que, con una confianza del 95%, la introducción del nuevo producto de la compañía C si alterará la estructura actual de participación en el mercado."
      ],
      "metadata": {
        "id": "uEQVPxS4I7Wt"
      }
    },
    {
      "cell_type": "code",
      "source": [
        "valor_p = 1 - chi2.cdf(estadistico_prueba,len(O)-1)\n",
        "print(f\"Valor P: {valor_p}\")"
      ],
      "metadata": {
        "colab": {
          "base_uri": "https://localhost:8080/"
        },
        "id": "ktITeW16JXau",
        "outputId": "eb9ee102-4d44-43cd-da6d-8093ea2f85f6"
      },
      "execution_count": null,
      "outputs": [
        {
          "output_type": "stream",
          "name": "stdout",
          "text": [
            "Valor P: 0.02547646994668107\n"
          ]
        }
      ]
    },
    {
      "cell_type": "markdown",
      "source": [
        "Existe evidencia furte para afirmar que la introducción del nuevo producto de la compañía C si alterará la estructura actual de participación en el mercado."
      ],
      "metadata": {
        "id": "ea8ntXP8KDor"
      }
    },
    {
      "cell_type": "markdown",
      "source": [
        "En python existen diversos paquetes para aplicar pruebas de hipótesis, por ejemplo:"
      ],
      "metadata": {
        "id": "9xy4cPhdpVp6"
      }
    },
    {
      "cell_type": "code",
      "source": [
        "from scipy.stats import chisquare\n",
        "\n",
        "x2, p = chisquare(O, f_exp=E)\n",
        "\n",
        "print(\"Estadístico de chi-cuadrado:\", x2)\n",
        "print(\"Valor p:\", p)"
      ],
      "metadata": {
        "colab": {
          "base_uri": "https://localhost:8080/"
        },
        "id": "-bdQv88yEgrX",
        "outputId": "ff7a1990-2f3e-4007-a9f4-45fef9ef86bb"
      },
      "execution_count": null,
      "outputs": [
        {
          "output_type": "stream",
          "name": "stdout",
          "text": [
            "Estadístico de chi-cuadrado: 7.34\n",
            "Valor p: 0.02547646994668102\n"
          ]
        }
      ]
    },
    {
      "cell_type": "markdown",
      "source": [
        "<h1> Ejemplo prueba de homogeneidad </h2>"
      ],
      "metadata": {
        "id": "zzCufGmRUvZa"
      }
    },
    {
      "cell_type": "markdown",
      "source": [
        "En un ensayo clínico se desean comparar cuatro vacunas, B1, B2, B3 y B4; en relación al criterio reacción cutánea, con tres niveles, A1 =reacción nula; A2 =reacción moderada; y A3 =reacción importante. Se dividió un grupo de 400 niños en cuatro grupos de 100, a los que se administró las vacunas B1, B2, B3 y B4 ; respectivamente. Los resultados obtenidos conforman la siguiente tabla de contingencia con 4 filas y 3 columnas:"
      ],
      "metadata": {
        "id": "Gg7QW_y2L-gr"
      }
    },
    {
      "cell_type": "markdown",
      "source": [
        "![tabla_homogeneidad.png](data:image/png;base64,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)"
      ],
      "metadata": {
        "id": "g8XtHO6dPVnJ"
      }
    },
    {
      "cell_type": "markdown",
      "source": [
        "Su hipótesis nula es que, respecto a cualquiera de los tres tipos de reacción, las 4 vacunas son similares.\n",
        "\n",
        "$H_0 : p_{ij} = p_{kj} = p_{.j}$, para $\\;j = 1,2,3,i,\\;k = 1,2,3,4$\n",
        "\n",
        "$H_1 :$ al menos una igualdad no se cumple."
      ],
      "metadata": {
        "id": "x1-MIYXGMVbi"
      }
    },
    {
      "cell_type": "markdown",
      "source": [
        "<h2> Desarrollo: </h2>"
      ],
      "metadata": {
        "id": "X24JICM3QPJ9"
      }
    },
    {
      "cell_type": "code",
      "source": [
        "O = np.array([[13,71,16],[15,74,11],[14,80,6],[5,70,25]])\n",
        "O"
      ],
      "metadata": {
        "colab": {
          "base_uri": "https://localhost:8080/"
        },
        "id": "H3oIPJmrW6Cc",
        "outputId": "d363c00d-1f0b-446a-db2d-615c13aeda98"
      },
      "execution_count": null,
      "outputs": [
        {
          "output_type": "execute_result",
          "data": {
            "text/plain": [
              "array([[13, 71, 16],\n",
              "       [15, 74, 11],\n",
              "       [14, 80,  6],\n",
              "       [ 5, 70, 25]])"
            ]
          },
          "metadata": {},
          "execution_count": 2
        }
      ]
    },
    {
      "cell_type": "code",
      "source": [
        "O.shape"
      ],
      "metadata": {
        "colab": {
          "base_uri": "https://localhost:8080/"
        },
        "id": "8_i0iDEIX2rz",
        "outputId": "205c60fb-94c1-4a9d-ca0c-b50074814c80"
      },
      "execution_count": null,
      "outputs": [
        {
          "output_type": "execute_result",
          "data": {
            "text/plain": [
              "(4, 3)"
            ]
          },
          "metadata": {},
          "execution_count": 3
        }
      ]
    },
    {
      "cell_type": "code",
      "source": [
        "E = np.array([[100*47/400, 100*295/400, 100*58/400], [100*47/400, 100*295/400, 100*58/400], [100*47/400, 100*295/400, 100*58/400], [100*47/400, 100*295/400, 100*58/400]])\n",
        "E"
      ],
      "metadata": {
        "colab": {
          "base_uri": "https://localhost:8080/"
        },
        "id": "ESei8ZhPU3jS",
        "outputId": "aee086c4-8015-4a03-8a70-72e18846e5c9"
      },
      "execution_count": null,
      "outputs": [
        {
          "output_type": "execute_result",
          "data": {
            "text/plain": [
              "array([[11.75, 73.75, 14.5 ],\n",
              "       [11.75, 73.75, 14.5 ],\n",
              "       [11.75, 73.75, 14.5 ],\n",
              "       [11.75, 73.75, 14.5 ]])"
            ]
          },
          "metadata": {},
          "execution_count": 7
        }
      ]
    },
    {
      "cell_type": "code",
      "source": [
        "factor_a_sumar = []\n",
        "for i in range(0,O.shape[0]):\n",
        "  for j in range(0,O.shape[1]):\n",
        "    factor_a_sumar.append((O[i,j]-E[i,j])**2/E[i,j])\n",
        "print(factor_a_sumar)\n",
        "estadistico_prueba = sum(factor_a_sumar)\n",
        "estadistico_prueba"
      ],
      "metadata": {
        "colab": {
          "base_uri": "https://localhost:8080/"
        },
        "id": "ewD6788TfxW5",
        "outputId": "290736b5-8da3-4209-b09a-a61a67bb668a"
      },
      "execution_count": null,
      "outputs": [
        {
          "output_type": "stream",
          "name": "stdout",
          "text": [
            "[0.13297872340425532, 0.10254237288135593, 0.15517241379310345, 0.898936170212766, 0.000847457627118644, 0.8448275862068966, 0.4308510638297872, 0.5296610169491526, 4.982758620689655, 3.877659574468085, 0.1906779661016949, 7.603448275862069]\n"
          ]
        },
        {
          "output_type": "execute_result",
          "data": {
            "text/plain": [
              "19.75036124202594"
            ]
          },
          "metadata": {},
          "execution_count": 9
        }
      ]
    },
    {
      "cell_type": "code",
      "source": [
        "nu = (4-1)*(3-1)\n",
        "alpha = 0.05\n",
        "valor_critico = chi2.ppf(1-alpha,nu)\n",
        "valor_critico"
      ],
      "metadata": {
        "colab": {
          "base_uri": "https://localhost:8080/"
        },
        "id": "TGj1E5vCgNhq",
        "outputId": "ead65984-41a5-4df5-df31-1b0116449908"
      },
      "execution_count": null,
      "outputs": [
        {
          "output_type": "execute_result",
          "data": {
            "text/plain": [
              "12.591587243743977"
            ]
          },
          "metadata": {},
          "execution_count": 10
        }
      ]
    },
    {
      "cell_type": "code",
      "source": [
        "valor_p = 1 - chi2.cdf(estadistico_prueba,nu)\n",
        "print(f\"Valor P: {valor_p}\")"
      ],
      "metadata": {
        "colab": {
          "base_uri": "https://localhost:8080/"
        },
        "id": "lY7mdFyIjCqc",
        "outputId": "754f041c-33ba-46d6-adf6-f6df4e27e31a"
      },
      "execution_count": null,
      "outputs": [
        {
          "output_type": "stream",
          "name": "stdout",
          "text": [
            "Valor P: 0.0030673486751091605\n"
          ]
        }
      ]
    },
    {
      "cell_type": "markdown",
      "source": [
        "Hay evidencia muy fuerte para decir que las 4 vacunas se comportan de forma diferente, con respecto a la alergia que producen."
      ],
      "metadata": {
        "id": "bBHV03nH18QG"
      }
    },
    {
      "cell_type": "markdown",
      "source": [
        "<h1> Ejemplo prueba de independencia </h2>"
      ],
      "metadata": {
        "id": "W2cYjSUv-6IY"
      }
    },
    {
      "cell_type": "markdown",
      "source": [
        "Suponga que se ha tomado una muestra de 150 personas bebedoras de cerveza. Después de probar cada una de las distintas cervezas se les pregunta su preferencia o primera alternativa. La tabla siguiente resume las respuestas observadas:"
      ],
      "metadata": {
        "id": "da-rQ4nhNAgF"
      }
    },
    {
      "cell_type": "markdown",
      "source": [
        "![tabla_independencia.png](data:image/png;base64,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)"
      ],
      "metadata": {
        "id": "tvek5Ra4RATC"
      }
    },
    {
      "cell_type": "markdown",
      "source": [
        "¿Existe evidencia para afirmar que la eleccion del tipo de cerveza es independiente de si la persona es hombre o mujer? Calcular el valor p."
      ],
      "metadata": {
        "id": "HRZ_-SkkOMbn"
      }
    },
    {
      "cell_type": "markdown",
      "source": [
        "<h2>Desarrollo: </h2>"
      ],
      "metadata": {
        "id": "HuWUwNtiQhq9"
      }
    },
    {
      "cell_type": "code",
      "source": [
        "O_hombres = [20,40,20]\n",
        "O_mujeres = [30,30,10]\n",
        "total = []\n",
        "for i in range(0,len(O_hombres)):\n",
        "  total.append(O_hombres[i]+O_mujeres[i])\n",
        "total\n"
      ],
      "metadata": {
        "colab": {
          "base_uri": "https://localhost:8080/"
        },
        "id": "oP3mLAN__whW",
        "outputId": "960c4ff4-e866-4693-df9a-f1e1199fad14"
      },
      "execution_count": null,
      "outputs": [
        {
          "output_type": "execute_result",
          "data": {
            "text/plain": [
              "[50, 70, 30]"
            ]
          },
          "metadata": {},
          "execution_count": 12
        }
      ]
    },
    {
      "cell_type": "code",
      "source": [
        "n_h = sum(O_hombres)\n",
        "n_m = sum(O_mujeres)\n",
        "n = n_h + n_m\n",
        "n"
      ],
      "metadata": {
        "colab": {
          "base_uri": "https://localhost:8080/"
        },
        "id": "DFpwocAs-4fX",
        "outputId": "71bce787-a837-437c-d802-e33f1982d3a8"
      },
      "execution_count": null,
      "outputs": [
        {
          "output_type": "execute_result",
          "data": {
            "text/plain": [
              "150"
            ]
          },
          "metadata": {},
          "execution_count": 13
        }
      ]
    },
    {
      "cell_type": "code",
      "source": [
        "E_hombres = []\n",
        "for i in range(0,len(O_hombres)):\n",
        "    E_hombres.append(n_h*total[i]/n)\n",
        "E_hombres"
      ],
      "metadata": {
        "colab": {
          "base_uri": "https://localhost:8080/"
        },
        "id": "GFPqCrFECEYe",
        "outputId": "8c40e5fa-ecc6-4ffe-bd87-522583020119"
      },
      "execution_count": null,
      "outputs": [
        {
          "output_type": "execute_result",
          "data": {
            "text/plain": [
              "[26.666666666666668, 37.333333333333336, 16.0]"
            ]
          },
          "metadata": {},
          "execution_count": 14
        }
      ]
    },
    {
      "cell_type": "code",
      "source": [
        "E_mujeres = []\n",
        "for i in range(0,len(O_mujeres)):\n",
        "    E_mujeres.append(n_m*total[i]/n)\n",
        "E_mujeres"
      ],
      "metadata": {
        "colab": {
          "base_uri": "https://localhost:8080/"
        },
        "id": "L_LGemaQCH4a",
        "outputId": "436acb56-b13d-4361-ae1a-721bf4b1ebae"
      },
      "execution_count": null,
      "outputs": [
        {
          "output_type": "execute_result",
          "data": {
            "text/plain": [
              "[23.333333333333332, 32.666666666666664, 14.0]"
            ]
          },
          "metadata": {},
          "execution_count": 15
        }
      ]
    },
    {
      "cell_type": "code",
      "source": [
        "factor_sumar_h = []\n",
        "for i in range(0,len(O_hombres)):\n",
        "  factor_sumar_h.append((O_hombres[i]-E_hombres[i])**2/E_hombres[i])\n",
        "factor_sumar_h"
      ],
      "metadata": {
        "colab": {
          "base_uri": "https://localhost:8080/"
        },
        "id": "YONdr1E6CaFt",
        "outputId": "5f353266-d35e-494f-976e-5523494c2701"
      },
      "execution_count": null,
      "outputs": [
        {
          "output_type": "execute_result",
          "data": {
            "text/plain": [
              "[1.666666666666667, 0.19047619047619013, 1.0]"
            ]
          },
          "metadata": {},
          "execution_count": 16
        }
      ]
    },
    {
      "cell_type": "code",
      "source": [
        "factor_sumar_m = []\n",
        "for i in range(0,len(O_mujeres)):\n",
        "  factor_sumar_m.append((O_mujeres[i]-E_mujeres[i])**2/E_mujeres[i])\n",
        "factor_sumar_m"
      ],
      "metadata": {
        "colab": {
          "base_uri": "https://localhost:8080/"
        },
        "id": "Z4eBJ227DhXl",
        "outputId": "9e0df3ef-c480-4dba-f02b-847c01b3a185"
      },
      "execution_count": null,
      "outputs": [
        {
          "output_type": "execute_result",
          "data": {
            "text/plain": [
              "[1.9047619047619053, 0.2176870748299316, 1.1428571428571428]"
            ]
          },
          "metadata": {},
          "execution_count": 17
        }
      ]
    },
    {
      "cell_type": "code",
      "source": [
        "estadistico_prueba = sum(factor_sumar_h) + sum(factor_sumar_m)\n",
        "estadistico_prueba"
      ],
      "metadata": {
        "colab": {
          "base_uri": "https://localhost:8080/"
        },
        "id": "qEG9fsBjDuRI",
        "outputId": "5be61127-b101-4fbb-be0d-1ca968cf6b07"
      },
      "execution_count": null,
      "outputs": [
        {
          "output_type": "execute_result",
          "data": {
            "text/plain": [
              "6.122448979591837"
            ]
          },
          "metadata": {},
          "execution_count": 18
        }
      ]
    },
    {
      "cell_type": "code",
      "source": [
        "valor_p = 1- chi2.cdf(estadistico_prueba,2)\n",
        "print(f\"Valor P: {valor_p}\")"
      ],
      "metadata": {
        "colab": {
          "base_uri": "https://localhost:8080/"
        },
        "id": "7TY57O3sD_5w",
        "outputId": "2be73ccb-8d11-4ee7-c980-7e8749192b84"
      },
      "execution_count": null,
      "outputs": [
        {
          "output_type": "stream",
          "name": "stdout",
          "text": [
            "Valor P: 0.04683031685241956\n"
          ]
        }
      ]
    },
    {
      "cell_type": "markdown",
      "source": [
        "<h1>Ejemplo 1 de bondad de ajuste</h1>"
      ],
      "metadata": {
        "id": "pJhU1kgJoqGp"
      }
    },
    {
      "cell_type": "markdown",
      "source": [
        "Hay 1000 bolsas de naranjas, cada una de las cuales contienen 10 naranjas. Alguna de las naranjas están podridas. ¿Es la distribución de probabilidades del número de naranjas podridas por bolsa una Binomial(10,p)?. Los resultados obtenidos tras analizar las 1000 bolsas son los siguientes:"
      ],
      "metadata": {
        "id": "RmoffupsRIPC"
      }
    },
    {
      "cell_type": "markdown",
      "source": [
        "![tabla_bondad_de_ajuste1.png](data:image/png;base64,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)"
      ],
      "metadata": {
        "id": "FlohyK4nRVDK"
      }
    },
    {
      "cell_type": "markdown",
      "source": [
        "$H_0:$ El número de naranjas podridas por bolsa sigue una distribución Binomial(10,p) para algún p.\n",
        "\n",
        "$H_1:$ El número de naranjas podridas por bolsa no sigue una distribución Binomial (10,p)."
      ],
      "metadata": {
        "id": "xkpPwD44Rx4s"
      }
    },
    {
      "cell_type": "code",
      "source": [
        "O = [334,369,191,63,22,12,9]"
      ],
      "metadata": {
        "id": "fizFs0RK1BqJ"
      },
      "execution_count": null,
      "outputs": []
    },
    {
      "cell_type": "code",
      "source": [
        "datos = pd.DataFrame(O+[0],columns = [\"frecuencia observada\"], index = [\"0\",\"1\",\"2\",\"3\",\"4\",\"5\",\"6\",\"7 o más\"])\n",
        "datos"
      ],
      "metadata": {
        "id": "w7AksIKAslTX"
      },
      "execution_count": null,
      "outputs": []
    },
    {
      "cell_type": "code",
      "source": [
        "numero_podridas = []\n",
        "for i in range(0,len(O)):\n",
        "  numero_podridas.append(i*O[i])\n",
        "total_podridas = sum(numero_podridas)\n",
        "total_podridas"
      ],
      "metadata": {
        "id": "z8WtdQG2uKUd"
      },
      "execution_count": null,
      "outputs": []
    },
    {
      "cell_type": "code",
      "source": [
        "p=1142/10000\n",
        "p"
      ],
      "metadata": {
        "id": "T6HLl3MH1Q1F"
      },
      "execution_count": null,
      "outputs": []
    },
    {
      "cell_type": "code",
      "source": [
        "binom.pmf(2,10,p)"
      ],
      "metadata": {
        "id": "HAvodRmGssXq"
      },
      "execution_count": null,
      "outputs": []
    },
    {
      "cell_type": "code",
      "source": [
        "probabilidades = []\n",
        "for i in range(0,len(O)):\n",
        "  probabilidades.append(binom.pmf(i,10,p))\n",
        "probabilidades\n"
      ],
      "metadata": {
        "id": "YBKaIIEy1h_Y"
      },
      "execution_count": null,
      "outputs": []
    },
    {
      "cell_type": "code",
      "source": [
        "prob = sum(probabilidades)\n",
        "prob"
      ],
      "metadata": {
        "id": "dDfiVMMd15JE"
      },
      "execution_count": null,
      "outputs": []
    },
    {
      "cell_type": "code",
      "source": [
        "probabilidades.append(1-prob)\n",
        "probabilidades"
      ],
      "metadata": {
        "id": "j4pW0-OC2FSL"
      },
      "execution_count": null,
      "outputs": []
    },
    {
      "cell_type": "code",
      "source": [
        "datos[\"Probabilidades\"] = probabilidades\n",
        "datos"
      ],
      "metadata": {
        "id": "gsj7W5Ul2Rxv"
      },
      "execution_count": null,
      "outputs": []
    },
    {
      "cell_type": "code",
      "source": [
        "E =[]\n",
        "for i in range(0,len(probabilidades)):\n",
        "  E.append(probabilidades[i]*1000)\n",
        "E"
      ],
      "metadata": {
        "id": "vEP0h8XE2mj5"
      },
      "execution_count": null,
      "outputs": []
    },
    {
      "cell_type": "code",
      "source": [
        "datos[\"Frecuencias esperadas\"] = E\n",
        "datos"
      ],
      "metadata": {
        "id": "0S5BRcdB2_Vd"
      },
      "execution_count": null,
      "outputs": []
    },
    {
      "cell_type": "code",
      "source": [
        "E[7]+E[6]+E[5]+E[4]"
      ],
      "metadata": {
        "id": "J0w5twPa34Wj"
      },
      "execution_count": null,
      "outputs": []
    },
    {
      "cell_type": "code",
      "source": [
        "O_nuevo = O[0:4]\n",
        "O_nuevo.append(22+12+9)\n",
        "O_nuevo"
      ],
      "metadata": {
        "id": "wXMgo_F14KcN"
      },
      "execution_count": null,
      "outputs": []
    },
    {
      "cell_type": "code",
      "source": [
        "datos_nuevo = pd.DataFrame(O_nuevo,columns = [\"frecuencia observada\"], index = [\"0\",\"1\",\"2\",\"3\",\"4 o más\"])\n",
        "datos_nuevo"
      ],
      "metadata": {
        "id": "4I_4Or4t94ex"
      },
      "execution_count": null,
      "outputs": []
    },
    {
      "cell_type": "code",
      "source": [
        "probabilidades_nuevo = probabilidades[0:4]\n",
        "probabilidades_nuevo.append(sum(probabilidades[4:len(probabilidades)]))\n",
        "probabilidades_nuevo"
      ],
      "metadata": {
        "id": "SgY4VsZa6KRd"
      },
      "execution_count": null,
      "outputs": []
    },
    {
      "cell_type": "code",
      "source": [
        "datos_nuevo[\"Probabilidades\"] = probabilidades_nuevo\n",
        "datos_nuevo"
      ],
      "metadata": {
        "id": "zCq-Iexx6aF0"
      },
      "execution_count": null,
      "outputs": []
    },
    {
      "cell_type": "code",
      "source": [
        "E_nuevo = E[0:4]\n",
        "E_nuevo.append(probabilidades_nuevo[4]*1000)\n",
        "E_nuevo"
      ],
      "metadata": {
        "id": "eRSk2e_h-YzE"
      },
      "execution_count": null,
      "outputs": []
    },
    {
      "cell_type": "code",
      "source": [
        "datos_nuevo[\"Frecuencias esperadas\"] = E_nuevo\n",
        "datos_nuevo"
      ],
      "metadata": {
        "id": "O8Tlh4lE-q0V"
      },
      "execution_count": null,
      "outputs": []
    },
    {
      "cell_type": "code",
      "source": [
        "factor_sumar = []\n",
        "for i in range(0,len(O_nuevo)):\n",
        "  factor_sumar.append((O_nuevo[i]-E_nuevo[i])**2/E_nuevo[i])\n",
        "factor_sumar\n"
      ],
      "metadata": {
        "id": "YPJ_n1wEBEJW"
      },
      "execution_count": null,
      "outputs": []
    },
    {
      "cell_type": "code",
      "source": [
        "estadistico_prueba = sum(factor_sumar)\n",
        "estadistico_prueba"
      ],
      "metadata": {
        "id": "jYxiHdQGDDbV"
      },
      "execution_count": null,
      "outputs": []
    },
    {
      "cell_type": "code",
      "source": [
        "alpha = 0.05\n",
        "k = 5\n",
        "valor_critico = chi2.ppf(1-alpha,k-1)\n",
        "valor_critico"
      ],
      "metadata": {
        "id": "ygg92QOEEt_h"
      },
      "execution_count": null,
      "outputs": []
    },
    {
      "cell_type": "markdown",
      "source": [
        "<h1>Ejemplo 2 de bondad de ajuste</h1>"
      ],
      "metadata": {
        "id": "4nFxwF5ySML7"
      }
    },
    {
      "cell_type": "markdown",
      "source": [
        "Un entomólogo está analizando la distribución de una especie de insecto en una zona de cultivo. Para dicho estudio seleccionaron 40 parcelas de\n",
        "2m x 2m y contabilizó el número de insectos de dicha especie en cada una. Los resultados son los siguientes:"
      ],
      "metadata": {
        "id": "cbgVBOF1SOpp"
      }
    },
    {
      "cell_type": "markdown",
      "source": [
        "![tabla_bondad_de_ajuste2 .png](data:image/png;base64,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)"
      ],
      "metadata": {
        "id": "q1LvDXf1S3YF"
      }
    },
    {
      "cell_type": "markdown",
      "source": [
        "Pruebe con $\\alpha = 0.05$ si los datos se ajustan a una distribución de Poisson."
      ],
      "metadata": {
        "id": "AUW4P6BhS9Jt"
      }
    },
    {
      "cell_type": "markdown",
      "source": [
        "<h1>Función de Masa (pmf), función de distribución acumulada (cdf) y función de puntuación percentil (ppf)</h1>\n",
        "<h2>1- Binomial</h2>"
      ],
      "metadata": {
        "id": "t0HuSoDaWXsh"
      }
    },
    {
      "cell_type": "code",
      "source": [
        "k,n,p = 0,10,0.1142\n",
        "binom.pmf(k,n,p)"
      ],
      "metadata": {
        "id": "fn9ejOWEWS2J"
      },
      "execution_count": null,
      "outputs": []
    },
    {
      "cell_type": "code",
      "source": [
        "\n",
        "\n",
        "x = np.arange(0, n+1)\n",
        "print(x, type(x))\n",
        "\n",
        "# Probabilidades asociadas a cada número de éxitos\n",
        "probabilidades = binom.pmf(x, n, p)\n",
        "\n",
        "# Gráfica de barras para la distribución binomial\n",
        "plt.bar(x, probabilidades, color=\"purple\")\n",
        "plt.xticks(x)\n",
        "plt.xlabel('Número de Éxitos')\n",
        "plt.ylabel('Probabilidad')\n",
        "plt.title('Distribución Binomial (n={}, p={})'.format(n, p))\n",
        "plt.show()"
      ],
      "metadata": {
        "id": "lcP93x-AYE2a"
      },
      "execution_count": null,
      "outputs": []
    },
    {
      "cell_type": "code",
      "source": [
        "binom.cdf(1,n,p)"
      ],
      "metadata": {
        "id": "iU4Uo7SSa0Sq"
      },
      "execution_count": null,
      "outputs": []
    },
    {
      "cell_type": "code",
      "source": [
        "binom.ppf(0.68,n,p)"
      ],
      "metadata": {
        "id": "a_-n41BbbGnb"
      },
      "execution_count": null,
      "outputs": []
    },
    {
      "cell_type": "markdown",
      "source": [
        "<h2>2- Poisson</h2>"
      ],
      "metadata": {
        "id": "r8p02qXHZMni"
      }
    },
    {
      "cell_type": "code",
      "source": [
        "k,lmbda = 0,5\n",
        "poisson.pmf(k,lmbda)"
      ],
      "metadata": {
        "id": "TLI6NjxnZSMA"
      },
      "execution_count": null,
      "outputs": []
    },
    {
      "cell_type": "code",
      "source": [
        "x = np.arange(0, 20)\n",
        "\n",
        "# Probabilidades asociadas a cada número de éxitos\n",
        "probabilidades = poisson.pmf(x,lmbda)\n",
        "\n",
        "# Gráfica de barras para la distribución binomial\n",
        "plt.bar(x, probabilidades, color=\"green\")\n",
        "plt.xticks(x)\n",
        "plt.xlabel('Número de Éxitos')\n",
        "plt.ylabel('Probabilidad')\n",
        "plt.title('Distribución Poisson (lambda={})'.format(lmbda))\n",
        "plt.show()"
      ],
      "metadata": {
        "id": "XXLqGEeYZMAm"
      },
      "execution_count": null,
      "outputs": []
    },
    {
      "cell_type": "markdown",
      "source": [
        "<h2>3- Geométrica</h2>\n"
      ],
      "metadata": {
        "id": "7FbfPBJscgIu"
      }
    },
    {
      "cell_type": "code",
      "source": [
        "k,p= 2,0.5\n",
        "geom.pmf(k,p)"
      ],
      "metadata": {
        "id": "SUqpyH93cltE"
      },
      "execution_count": null,
      "outputs": []
    },
    {
      "cell_type": "code",
      "source": [
        "x = np.arange(1, 20)\n",
        "\n",
        "# Probabilidades asociadas a cada número de éxitos\n",
        "probabilidades = geom.pmf(x,p)\n",
        "\n",
        "# Gráfica de barras para la distribución binomial\n",
        "plt.bar(x, probabilidades, color=\"green\")\n",
        "plt.xticks(x)\n",
        "plt.xlabel('Número de Éxitos')\n",
        "plt.ylabel('Probabilidad')\n",
        "plt.title('Distribución Geométrica (p={})'.format(p))\n",
        "plt.show()"
      ],
      "metadata": {
        "id": "SpDNJbqHc5nL"
      },
      "execution_count": null,
      "outputs": []
    },
    {
      "cell_type": "markdown",
      "source": [
        "<h1>Función de Densidad (pdf), función de distribución acumulada (cdf) y función de puntuación percentil (ppf)</h1>\n",
        "<h2>1- Normal</h2>"
      ],
      "metadata": {
        "id": "xq08D3snAL83"
      }
    },
    {
      "cell_type": "code",
      "source": [
        "norm.pdf(2,0,1)"
      ],
      "metadata": {
        "id": "zrrYgceBAUCP"
      },
      "execution_count": null,
      "outputs": []
    },
    {
      "cell_type": "code",
      "source": [
        "mu = 0\n",
        "sigma = 1\n",
        "\n",
        "x = np.arange(-5, 5, 0.05)\n",
        "y = norm.pdf(x, loc = mu, scale = sigma)\n",
        "y1 = norm.pdf(x, loc = mu1, scale = sigma1)\n",
        "plt.plot(x, y, color=\"green\", linewidth=2, label='mu = {}, sd = {}'.format(mu,sigma))\n",
        "plt.legend(loc=\"upper right\")\n",
        "plt.xlabel(\"x\")\n",
        "plt.ylabel(\"f(x)\")\n",
        "plt.title('Distribución Normal (mu={}, sd={})'.format(mu,sigma))\n",
        "plt.show()"
      ],
      "metadata": {
        "id": "IDR92d1TAsut"
      },
      "execution_count": null,
      "outputs": []
    }
  ]
}